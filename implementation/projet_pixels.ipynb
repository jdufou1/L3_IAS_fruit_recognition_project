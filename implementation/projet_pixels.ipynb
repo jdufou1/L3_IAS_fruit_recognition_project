{
 "cells": [
  {
   "cell_type": "markdown",
   "id": "ready-institute",
   "metadata": {},
   "source": [
    "## Partie : Prediction basée sur les pixels"
   ]
  },
  {
   "cell_type": "markdown",
   "id": "1c08d3d6-a418-4d5d-b858-83e8d6ba5693",
   "metadata": {},
   "source": [
    "Ce notebook présente l'apprentissage d'un classifieur de fruits multiclasse avec un classifieur naif bayesin s'appuyant sur la loi de bernoulli.\n",
    "Ce qui est important avec ce choix de modélisation, c'est qu'il faut que nos données soit binaire, c'est à dire 0/1, car c'est le critère de l'expérience de Bernouilli. Donc, dans cette partie nous allons étudier les performance d'un pre processing sur les images en transformant nos images du format RVB vers une binarisation noir/blanc."
   ]
  },
  {
   "cell_type": "markdown",
   "id": "peaceful-speech",
   "metadata": {},
   "source": [
    "## Importation des libs"
   ]
  },
  {
   "cell_type": "code",
   "execution_count": 1,
   "id": "speaking-victim",
   "metadata": {},
   "outputs": [],
   "source": [
    "import numpy as np\n",
    "from tqdm import tqdm\n",
    "import os\n",
    "import matplotlib.image as mpimg\n",
    "import matplotlib.pyplot as plt\n",
    "from skimage import io\n",
    "from PIL import Image\n",
    "from pylab import *\n",
    "import random\n",
    "from sklearn.utils import shuffle"
   ]
  },
  {
   "cell_type": "markdown",
   "id": "opponent-individual",
   "metadata": {},
   "source": [
    "## Importation des données"
   ]
  },
  {
   "cell_type": "markdown",
   "id": "fc903193-4712-4e82-96ed-2cf024b9d241",
   "metadata": {},
   "source": [
    "Nous avons extrait ces données depuis un dataset disponible sur kaggle à l'adresse suivante : https://www.kaggle.com/datasets/moltean/fruits"
   ]
  },
  {
   "cell_type": "code",
   "execution_count": 7,
   "id": "38c0bf85-d55b-493e-a11c-a181fd50cbbd",
   "metadata": {},
   "outputs": [],
   "source": [
    "fruits = [\"Banane\",\"Mais\",\"Fraise\",\"Framboise\",\"Clementine\",\"Poire\",\n",
    "          \"Nectarine\",\"Orange\",\"Lychee\",\"Kiwi\",\"Mirtille\",\"Cerise\",\n",
    "          \"Abricot\",\"Citron\",\"Melon\",\"Tangelo\",\"Plum\",\"Peche\",\"Kaki\",\"Mangue\"]"
   ]
  },
  {
   "cell_type": "code",
   "execution_count": 8,
   "id": "furnished-macro",
   "metadata": {},
   "outputs": [
    {
     "name": "stdout",
     "output_type": "stream",
     "text": [
      "chargement Banane\n"
     ]
    },
    {
     "name": "stderr",
     "output_type": "stream",
     "text": [
      "100%|███████████████████████████████████████████████████████████████████████████████████████████████████████████████████████████████████████████████████████████████████████████████████████████████████| 490/490 [00:00<00:00, 2537.51it/s]\n"
     ]
    },
    {
     "name": "stdout",
     "output_type": "stream",
     "text": [
      "chargement Mais\n"
     ]
    },
    {
     "name": "stderr",
     "output_type": "stream",
     "text": [
      "100%|███████████████████████████████████████████████████████████████████████████████████████████████████████████████████████████████████████████████████████████████████████████████████████████████████| 450/450 [00:00<00:00, 2615.38it/s]\n"
     ]
    },
    {
     "name": "stdout",
     "output_type": "stream",
     "text": [
      "chargement Fraise\n"
     ]
    },
    {
     "name": "stderr",
     "output_type": "stream",
     "text": [
      "100%|███████████████████████████████████████████████████████████████████████████████████████████████████████████████████████████████████████████████████████████████████████████████████████████████████| 492/492 [00:00<00:00, 2701.03it/s]\n"
     ]
    },
    {
     "name": "stdout",
     "output_type": "stream",
     "text": [
      "chargement Framboise\n"
     ]
    },
    {
     "name": "stderr",
     "output_type": "stream",
     "text": [
      "100%|███████████████████████████████████████████████████████████████████████████████████████████████████████████████████████████████████████████████████████████████████████████████████████████████████| 490/490 [00:00<00:00, 2732.64it/s]\n"
     ]
    },
    {
     "name": "stdout",
     "output_type": "stream",
     "text": [
      "chargement Clementine\n"
     ]
    },
    {
     "name": "stderr",
     "output_type": "stream",
     "text": [
      "100%|███████████████████████████████████████████████████████████████████████████████████████████████████████████████████████████████████████████████████████████████████████████████████████████████████| 490/490 [00:00<00:00, 2713.35it/s]\n"
     ]
    },
    {
     "name": "stdout",
     "output_type": "stream",
     "text": [
      "chargement Poire\n"
     ]
    },
    {
     "name": "stderr",
     "output_type": "stream",
     "text": [
      "100%|███████████████████████████████████████████████████████████████████████████████████████████████████████████████████████████████████████████████████████████████████████████████████████████████████| 490/490 [00:00<00:00, 2685.87it/s]\n"
     ]
    },
    {
     "name": "stdout",
     "output_type": "stream",
     "text": [
      "chargement Nectarine\n"
     ]
    },
    {
     "name": "stderr",
     "output_type": "stream",
     "text": [
      "100%|███████████████████████████████████████████████████████████████████████████████████████████████████████████████████████████████████████████████████████████████████████████████████████████████████| 492/492 [00:00<00:00, 2720.36it/s]\n"
     ]
    },
    {
     "name": "stdout",
     "output_type": "stream",
     "text": [
      "chargement Orange\n"
     ]
    },
    {
     "name": "stderr",
     "output_type": "stream",
     "text": [
      "100%|███████████████████████████████████████████████████████████████████████████████████████████████████████████████████████████████████████████████████████████████████████████████████████████████████| 479/479 [00:00<00:00, 2317.66it/s]\n"
     ]
    },
    {
     "name": "stdout",
     "output_type": "stream",
     "text": [
      "chargement Lychee\n"
     ]
    },
    {
     "name": "stderr",
     "output_type": "stream",
     "text": [
      "100%|████████████████████████████████████████████████████████████████████████████████████████████████████████████████████████████████████████████████████████████████████████████████████████████████████| 490/490 [00:03<00:00, 149.23it/s]\n"
     ]
    },
    {
     "name": "stdout",
     "output_type": "stream",
     "text": [
      "chargement Kiwi\n"
     ]
    },
    {
     "name": "stderr",
     "output_type": "stream",
     "text": [
      "100%|████████████████████████████████████████████████████████████████████████████████████████████████████████████████████████████████████████████████████████████████████████████████████████████████████| 466/466 [00:00<00:00, 583.62it/s]\n"
     ]
    },
    {
     "name": "stdout",
     "output_type": "stream",
     "text": [
      "chargement Mirtille\n"
     ]
    },
    {
     "name": "stderr",
     "output_type": "stream",
     "text": [
      "100%|████████████████████████████████████████████████████████████████████████████████████████████████████████████████████████████████████████████████████████████████████████████████████████████████████| 462/462 [00:03<00:00, 136.46it/s]\n"
     ]
    },
    {
     "name": "stdout",
     "output_type": "stream",
     "text": [
      "chargement Cerise\n"
     ]
    },
    {
     "name": "stderr",
     "output_type": "stream",
     "text": [
      "100%|████████████████████████████████████████████████████████████████████████████████████████████████████████████████████████████████████████████████████████████████████████████████████████████████████| 492/492 [00:02<00:00, 240.74it/s]\n"
     ]
    },
    {
     "name": "stdout",
     "output_type": "stream",
     "text": [
      "chargement Abricot\n"
     ]
    },
    {
     "name": "stderr",
     "output_type": "stream",
     "text": [
      "100%|████████████████████████████████████████████████████████████████████████████████████████████████████████████████████████████████████████████████████████████████████████████████████████████████████| 492/492 [00:01<00:00, 291.60it/s]\n"
     ]
    },
    {
     "name": "stdout",
     "output_type": "stream",
     "text": [
      "chargement Citron\n"
     ]
    },
    {
     "name": "stderr",
     "output_type": "stream",
     "text": [
      "100%|████████████████████████████████████████████████████████████████████████████████████████████████████████████████████████████████████████████████████████████████████████████████████████████████████| 492/492 [00:01<00:00, 423.80it/s]\n"
     ]
    },
    {
     "name": "stdout",
     "output_type": "stream",
     "text": [
      "chargement Melon\n"
     ]
    },
    {
     "name": "stderr",
     "output_type": "stream",
     "text": [
      "100%|████████████████████████████████████████████████████████████████████████████████████████████████████████████████████████████████████████████████████████████████████████████████████████████████████| 475/475 [00:01<00:00, 410.43it/s]\n"
     ]
    },
    {
     "name": "stdout",
     "output_type": "stream",
     "text": [
      "chargement Tangelo\n"
     ]
    },
    {
     "name": "stderr",
     "output_type": "stream",
     "text": [
      "100%|████████████████████████████████████████████████████████████████████████████████████████████████████████████████████████████████████████████████████████████████████████████████████████████████████| 490/490 [00:04<00:00, 112.59it/s]\n"
     ]
    },
    {
     "name": "stdout",
     "output_type": "stream",
     "text": [
      "chargement Plum\n"
     ]
    },
    {
     "name": "stderr",
     "output_type": "stream",
     "text": [
      "100%|████████████████████████████████████████████████████████████████████████████████████████████████████████████████████████████████████████████████████████████████████████████████████████████████████| 447/447 [00:02<00:00, 166.59it/s]\n"
     ]
    },
    {
     "name": "stdout",
     "output_type": "stream",
     "text": [
      "chargement Peche\n"
     ]
    },
    {
     "name": "stderr",
     "output_type": "stream",
     "text": [
      "100%|████████████████████████████████████████████████████████████████████████████████████████████████████████████████████████████████████████████████████████████████████████████████████████████████████| 492/492 [00:02<00:00, 220.41it/s]\n"
     ]
    },
    {
     "name": "stdout",
     "output_type": "stream",
     "text": [
      "chargement Kaki\n"
     ]
    },
    {
     "name": "stderr",
     "output_type": "stream",
     "text": [
      "100%|████████████████████████████████████████████████████████████████████████████████████████████████████████████████████████████████████████████████████████████████████████████████████████████████████| 490/490 [00:01<00:00, 326.18it/s]\n"
     ]
    },
    {
     "name": "stdout",
     "output_type": "stream",
     "text": [
      "chargement Mangue\n"
     ]
    },
    {
     "name": "stderr",
     "output_type": "stream",
     "text": [
      "100%|████████████████████████████████████████████████████████████████████████████████████████████████████████████████████████████████████████████████████████████████████████████████████████████████████| 490/490 [00:03<00:00, 130.23it/s]\n"
     ]
    }
   ],
   "source": [
    "format_fichier = [\".jpg\"]\n",
    "\n",
    "def lire_images(cheminRacine, array, y, index):   \n",
    "    print(f\"chargement {fruits[index]}\")\n",
    "    for lists in tqdm(os.listdir(cheminRacine)): \n",
    "        chemin = os.path.join(cheminRacine, lists) \n",
    "        filename, extension = os.path.splitext(chemin) \n",
    "        if extension in format_fichier:   \n",
    "            array.append(mpimg.imread(chemin))\n",
    "            y.append(index)\n",
    "        if os.path.isdir(chemin): \n",
    "            lire_images(chemin, array, y, index)\n",
    "images = []\n",
    "classes = []\n",
    "\n",
    "#remplissage de la liste d'images + classes\n",
    "lire_images(\"../Training/Banana\", images, classes, 0)\n",
    "lire_images(\"../Training/Corn\", images, classes, 1)\n",
    "lire_images(\"../Training/Strawberry\", images, classes, 2)\n",
    "lire_images(\"../Training/Raspberry\", images, classes, 3)\n",
    "lire_images(\"../Training/Clementine\", images, classes, 4)\n",
    "lire_images(\"../Training/Pear Williams\", images, classes, 5)\n",
    "lire_images(\"../Training/Nectarine\", images, classes, 6)\n",
    "lire_images(\"../Training/Orange\", images, classes, 7)\n",
    "lire_images(\"../Training/Lychee\", images, classes, 8)\n",
    "lire_images(\"../Training/Kiwi\", images, classes, 9)\n",
    "lire_images(\"../Training/Blueberry\", images, classes, 10)\n",
    "lire_images(\"../Training/Cherry 1\", images, classes, 11)\n",
    "lire_images(\"../Training/Apricot\", images, classes, 12)\n",
    "lire_images(\"../Training/Lemon\", images, classes, 13)\n",
    "lire_images(\"../Training/Watermelon\", images, classes, 14)\n",
    "lire_images(\"../Training/Tangelo\", images, classes, 15)\n",
    "lire_images(\"../Training/Plum\", images, classes, 16)\n",
    "lire_images(\"../Training/Peach\", images, classes, 17)\n",
    "lire_images(\"../Training/Kaki\", images, classes, 18)\n",
    "lire_images(\"../Training/Mango\", images, classes, 19)\n",
    "\n",
    "\n",
    "\n",
    "\n",
    "K = len(fruits)\n",
    "\n",
    "images,classes = shuffle(images, classes, random_state=10) "
   ]
  },
  {
   "cell_type": "code",
   "execution_count": 16,
   "id": "rural-chemical",
   "metadata": {},
   "outputs": [
    {
     "name": "stdout",
     "output_type": "stream",
     "text": [
      "(9651, 50, 50, 3)\n",
      "(9651,)\n",
      "Nous avons au total 9651 images dans notre dataset\n"
     ]
    }
   ],
   "source": [
    "images = np.asarray(images, dtype=int)\n",
    "classes = np.asarray(classes, dtype=int)\n",
    "\n",
    "print(images.shape)\n",
    "print(classes.shape)\n",
    "print(f\"Nous avons au total {len(images)} images dans notre dataset en 50x50 avec 3 couleurs\") "
   ]
  },
  {
   "cell_type": "code",
   "execution_count": 48,
   "id": "4d412db5-dcd7-48d0-9c87-3f8330b77de2",
   "metadata": {},
   "outputs": [
    {
     "name": "stdout",
     "output_type": "stream",
     "text": [
      "Voici une representation d'images de notre dataset :\n"
     ]
    },
    {
     "data": {
      "image/png": "[encoded data removed]",
      "text/plain": [
       "<Figure size 432x288 with 1 Axes>"
      ]
     },
     "metadata": {
      "needs_background": "light"
     },
     "output_type": "display_data"
    }
   ],
   "source": [
    "print(\"Voici une representation d'images de notre dataset :\")\n",
    "index_demo = 5\n",
    "img_demo = images[index_demo]\n",
    "plt.figure()\n",
    "plt.imshow(img_demo)\n",
    "plt.title(fruits[classes[index_demo]])\n",
    "plt.show()"
   ]
  },
  {
   "cell_type": "markdown",
   "id": "received-mount",
   "metadata": {},
   "source": [
    "## Fonctions de préparation des données"
   ]
  },
  {
   "cell_type": "markdown",
   "id": "84919b82-f9ec-4053-94e5-29c6be2ddb9a",
   "metadata": {},
   "source": [
    "Voici quelques fonctions utiles qui nous permettrons de transformer nos images RVB vers le format Noir/Blanc"
   ]
  },
  {
   "cell_type": "code",
   "execution_count": 27,
   "id": "regulated-outline",
   "metadata": {},
   "outputs": [],
   "source": [
    "def transformer_en_gris(img_orig):\n",
    "    im = np.zeros((img_orig.shape[0],img_orig.shape[1])) # On fait une copie de l'original\n",
    "    for i in range(img_orig.shape[0]):\n",
    "        for j in range(img_orig.shape[1]):\n",
    "            r, v, b = img_orig[i, j]\n",
    "            moyenne = np.mean(img_orig[i, j])\n",
    "            im[i, j] = int(moyenne)\n",
    "    return im \n",
    "\n",
    "def transformation(arr):\n",
    "    l = np.zeros((np.shape(arr)[0],np.shape(arr)[1],np.shape(arr)[2]))\n",
    "    for i in tqdm(range(np.shape(arr)[0])):\n",
    "        l[i] = transformer_en_gris(arr[i])\n",
    "    return l\n",
    "\n",
    "def applatir(images):\n",
    "    taille_applatie = np.shape(images)[1]*np.shape(images)[2]\n",
    "    images_applaties = np.zeros((np.shape(images)[0],taille_applatie))\n",
    "    for i in tqdm(range(len(images))):\n",
    "        images_applaties[i]= images[i].ravel()\n",
    "    return images_applaties"
   ]
  },
  {
   "cell_type": "markdown",
   "id": "metropolitan-function",
   "metadata": {},
   "source": [
    "## Fonctions de preprocessing"
   ]
  },
  {
   "cell_type": "markdown",
   "id": "b3d21be6-c47c-48d1-9e35-c88f851f5ad3",
   "metadata": {},
   "source": [
    "prends 5min ..."
   ]
  },
  {
   "cell_type": "code",
   "execution_count": 28,
   "id": "still-stockholm",
   "metadata": {},
   "outputs": [
    {
     "name": "stderr",
     "output_type": "stream",
     "text": [
      "100%|███████████████████████████████████████████████████████████████████████████████████████████████████████████████████████████████████████████████████████████████████████████████████████████████████| 9651/9651 [04:47<00:00, 33.54it/s]\n"
     ]
    }
   ],
   "source": [
    "images_grises = transformation(images)"
   ]
  },
  {
   "cell_type": "code",
   "execution_count": 30,
   "id": "3563e08a-d02c-4468-bbb5-ffdaf27186d3",
   "metadata": {},
   "outputs": [
    {
     "name": "stdout",
     "output_type": "stream",
     "text": [
      "(9651, 50, 50)\n"
     ]
    }
   ],
   "source": [
    "print(images_grises.shape)"
   ]
  },
  {
   "cell_type": "code",
   "execution_count": 49,
   "id": "3a9ac40d-256c-44b3-9b86-b2f4b0a8a4c9",
   "metadata": {},
   "outputs": [
    {
     "name": "stdout",
     "output_type": "stream",
     "text": [
      "Voici une representation d'images de notre dataset en N/B :\n"
     ]
    },
    {
     "data": {
      "image/png": "[encoded data removed]",
      "text/plain": [
       "<Figure size 432x288 with 1 Axes>"
      ]
     },
     "metadata": {
      "needs_background": "light"
     },
     "output_type": "display_data"
    }
   ],
   "source": [
    "print(\"Voici une representation d'images de notre dataset en N/B :\")\n",
    "index_demo = 5\n",
    "img_demo = images_grises[index_demo]\n",
    "plt.figure()\n",
    "plt.imshow(img_demo,  cmap='gray')\n",
    "plt.title(fruits[classes[index_demo]])\n",
    "plt.show()"
   ]
  },
  {
   "cell_type": "code",
   "execution_count": 29,
   "id": "about-computer",
   "metadata": {},
   "outputs": [],
   "source": [
    "X = applatir(images_grises)"
   ]
  },
  {
   "cell_type": "code",
   "execution_count": 33,
   "id": "f7ec4f4e-ba58-4a55-97c3-61bf309da9bf",
   "metadata": {},
   "outputs": [
    {
     "name": "stdout",
     "output_type": "stream",
     "text": [
      "(9651, 2500)\n"
     ]
    }
   ],
   "source": [
    "print(X.shape)"
   ]
  },
  {
   "cell_type": "code",
   "execution_count": 35,
   "id": "linear-convention",
   "metadata": {},
   "outputs": [],
   "source": [
    "# On melange le dataset\n",
    "y = classes\n",
    "X , y  = shuffle(X, y, random_state=10)"
   ]
  },
  {
   "cell_type": "code",
   "execution_count": 36,
   "id": "advanced-gregory",
   "metadata": {},
   "outputs": [],
   "source": [
    "## on binarise X, de sorte que il vaut soit 0 soit 1,\n",
    "## comme les valeurs prises par une loi de Bernoulli\n",
    "X /= X.max()\n",
    "mask = (X > 0.5)\n",
    "X[mask] = 1\n",
    "X[np.invert(mask)] = 0"
   ]
  },
  {
   "cell_type": "code",
   "execution_count": 52,
   "id": "ef38dc77-a040-4225-a137-75085540c278",
   "metadata": {},
   "outputs": [
    {
     "name": "stdout",
     "output_type": "stream",
     "text": [
      "Voici une representation d'images de notre dataset en Binaire :\n"
     ]
    },
    {
     "data": {
      "image/png": "[encoded data removed]",
      "text/plain": [
       "<Figure size 432x288 with 1 Axes>"
      ]
     },
     "metadata": {
      "needs_background": "light"
     },
     "output_type": "display_data"
    }
   ],
   "source": [
    "print(\"Voici une representation d'images de notre dataset en Binaire :\")\n",
    "index_demo = 5\n",
    "img_demo = np.array(X[index_demo]).reshape((50,50))\n",
    "plt.figure()\n",
    "plt.imshow(img_demo,  cmap='gray')\n",
    "plt.title(fruits[classes[index_demo]])\n",
    "plt.show()"
   ]
  },
  {
   "cell_type": "code",
   "execution_count": null,
   "id": "a4cdb587-0d7b-440f-987e-2f126fb57b55",
   "metadata": {},
   "outputs": [],
   "source": []
  },
  {
   "cell_type": "code",
   "execution_count": 37,
   "id": "colored-narrative",
   "metadata": {},
   "outputs": [],
   "source": [
    "Ntot   =  X.shape[0]\n",
    "Ntrain = int(0.8 * Ntot)\n",
    "\n",
    "X_train = X[:Ntrain]\n",
    "X_test  = X[Ntrain:]\n",
    "y_train = y[:Ntrain]\n",
    "y_test  = y[Ntrain:]"
   ]
  },
  {
   "cell_type": "code",
   "execution_count": 38,
   "id": "0fe7c328-c3a5-4ce8-9992-ab07d3d9a76c",
   "metadata": {},
   "outputs": [
    {
     "name": "stdout",
     "output_type": "stream",
     "text": [
      "(7720, 2500)\n",
      "(1931, 2500)\n",
      "(7720,)\n",
      "(1931,)\n"
     ]
    }
   ],
   "source": [
    "print(X_train.shape)\n",
    "print(X_test.shape)\n",
    "print(y_train.shape)\n",
    "print(y_test.shape)"
   ]
  },
  {
   "cell_type": "markdown",
   "id": "b989919b-4cec-437f-ad99-170719b93e5d",
   "metadata": {},
   "source": [
    "## Modèle du bayesien naïf : representation sous forme de loi de Bernoulli\n",
    "\n",
    "Pour contruire notre fonction de classification, on va représenter nos données sous forme binaire afin de pouvoir effectuer une expérience de Bernoulli dessus. C'est à dire que chaque dimension d'un exemple doit valoir soit 0 soit 1 afin qu'on puisse calculer ce type de probabilité :\n",
    "$ P(X_d = x_d | \\theta , y) = p_i^{x_d}*(1 - p_d)^{(1 - x_d)}$ ou $d$ représente une dimension, $p_d \\in[0,1] $ la probabilité que cette dimension prenne la valeur $1$ , $y \\in \\{classe\\}$ la classe, et $x_d \\in \\{0,1\\}$ la valeur possible.\n",
    "\n",
    "Pour construire notre classifieur, nous cherchons à choisir la probabilité maximum d'une classe par rapport a l'image et a des paramètres que l'on va apprendre. on écrit cela ainsi :\n",
    "<p style=\"text-align: center;\">\n",
    "    $ y_{pred} = argmax_y P(y | x_i , \\theta)$\n",
    "</p>\n",
    "Ou $i$ représente l'image $i$.\n",
    "\n",
    "Notre fonction de prediction s'écrira donc : \n",
    "<p style=\"text-align: center;\">\n",
    "    $f_{\\theta}(x_i) = argmax_y P(y | x_i , \\theta)$\n",
    "</p>\n",
    "Pour calculer la quantité $P(y | x_i , \\theta)$, nous allons passer par la loi de Bayes ($P(A,B) = P(A|B)P(B) = P(B|A)P(A) <=> P(A|B) = P(B|A)P(A)/P(B)$)\n",
    "\n",
    "Ce qui nous donne : $P(y | x_i , \\theta) = \\frac{P(x_i | y , \\theta) P(y)}{P(x_i)}$. De plus, on remarque que $P(x_i)$ est constant pour chaque classe, nous pouvons donc l'enlever de l'équation car le résultat sera proportionnel. \\\n",
    "On obtient : \n",
    "<p style=\"text-align: center;\">\n",
    "    $P(y | x_i , \\theta) = P(x_i | y , \\theta) P(y) $\n",
    "</p>\n",
    "La prior $P(y)$ est la probabilté qu'un exemple soit de la classe $y$ donc nous pouvons calculer cette quantité trivialement en comptant le nombre \n",
    "d'exemple de la classe puis en divisant par le nombre total d'exemples tel que.\n",
    "<p style=\"text-align: center;\">\n",
    "    $P(y_j) = \\frac{1}{N}\\sum_{i}^{N} classe(x_i,y_j)$\n",
    "</p>\n",
    "Ou $N$ représente le nombre d'exemple du dataset et $classe(x_i)$ est une fonction indicatrice si $x_i$ est bien de la classe $y_i$\n",
    "\n",
    "La vraissemblance des données par rapport aux classes et aux paramètres ce calcul de la manière suivante en faisant une hypothèse d'indépendance entre les dimensions sinon le calcul n'aura pas été faisable: \n",
    "<p style=\"text-align: center;\">\n",
    "    $ P(x_i | y_k , \\theta) = \\prod_{d}^{D} P(x_{i,d} | \\theta)$\n",
    "</p>\n",
    "<p style=\"text-align: center;\">\n",
    "    $ = \\prod_{d}^{D} p_{k,d}^{x_{i,d}}*(1 - p_{k,d})^{(1 - x_{i,d})}$\n",
    "</p>\n",
    "Nous voyons d'après cette équations que nous avons à trouver les valeurs de 50x50x20 = 50 000 paramètres ($p_{k,d} \\in \\theta$).\n",
    "50x50 : nombre de dimensions et 20 : nombre de classe\n",
    "\n",
    "En résumant les équations ci-dessus la fonction finale de prédiction s'écrit : \n",
    "<p style=\"text-align: center;\">\n",
    "    $f_{\\theta}(x_i) = argmax_y  \\prod_{d}^{D} p_{k,d}^{x_{i,d}}*(1 - p_{k,d})^{(1 - x_{i,d})} * \\frac{1}{N}\\sum_{i}^{N} classe(x_i,y_j) $\n",
    "</p>\n",
    "\n",
    "Nous avons à présent besoin de trouver les paramètres $p_{k,d}$ nécessaire à notre fonction de prédiction. Pour cela nous allons les estimés par la méthode du maximum de vraisemblance. Comme nous l'avons dit plutot la vraisemblance se définit par : $ L(x_i,\\theta,y_k) = P(x_i | y_k , \\theta) = \\prod_{d}^{D} P(x_{i,d} | \\theta)$ pour un exemple de la classe $k$. La vraisemblance d'un ensemble d'exemple pour la classe $k$ s'exprime par ($|y_k|$ représente le nombre d'exemple de la classe $k$) : \n",
    "<p style=\"text-align: center;\">\n",
    "$L(x,\\theta,y_k) = \\prod_{i}^{|y_k|} \\prod_{d}^{D} P(x_{i,d} | \\theta) $\n",
    "</p>\n",
    "<p style=\"text-align: center;\">\n",
    "$ = \\prod_{i}^{|y|} \\prod_{d}^{D} p_{k,d}^{x_{i,d}}*(1 - p_{k,d})^{(1 - x_{i,d})} $\n",
    "</p>\n",
    "\n",
    "Pour trouver les $p_{k,d}^{*}$, nous allons devoir dérivée cette expression afin de trouver l'optimum de cette fonction et d'isoler les $p_{k,d}$. Pour cela, nous allons d'abord calculer la log-vraissemblance pour faciliter les calculs ensuite (log(.) étant une fonction strictement croissante, cela ne fausse donc pas les calculs).\n",
    "<p style=\"text-align: center;\">\n",
    "$ log L(x,\\theta,y_k) = log \\prod_{i}^{|y|} \\prod_{d}^{D} p_{k,d}^{x_{i,d}}*(1 - p_{k,d})^{(1 - x_{i,d})} $\n",
    "</p>\n",
    "<p style=\"text-align: center;\">\n",
    "$ = \\sum_{i}^{|y|} \\sum_{d}^{D} log[ p_{k,d}^{x_{i,d}}*(1 - p_{k,d})^{(1 - x_{i,d})}] $ (log(a * b) = log(a) + log(b))\n",
    "</p>\n",
    "<p style=\"text-align: center;\">\n",
    "$ = \\sum_{i}^{|y|} \\sum_{d}^{D} x_{i,d}*log(p_{k,d}) + (1 - x_{i,d})*log(1 - p_{k,d}) $\n",
    "</p>\n",
    "\n",
    "Nous allons maintenant annuler la dérivé de cette expression par rapport aux $p_{k,d}$:\n",
    "\n",
    "<p style=\"text-align: center;\">\n",
    "$ (log L(x,\\theta,y_k))'(p_{k,d}) = \\sum_{i}^{|y|} \\frac{x_{i,d}}{p_{k,d}}-\\frac{1 - x_{i,d}}{1 - p_{k,d}}  $ (d étant en indice on peut enlever la somme et dérivé de somme = somme des dérivées)\n",
    "</p>\n",
    "\n",
    "Isolons les $p_{k,d}$ en posant l'équations = 0.\n",
    "<p style=\"text-align: center;\">\n",
    "$ (log L(x,\\theta,y_k))'(p_{k,d}) = 0 $\n",
    "</p>\n",
    "<p style=\"text-align: center;\">\n",
    "$ \\sum_{i}^{|y|} \\frac{x_{i,d}}{p_{k,d}}-\\frac{1 - x_{i,d}}{1 - p_{k,d}} = 0 $\n",
    "</p>\n",
    "<p style=\"text-align: center;\">\n",
    "$ \\sum_{i}^{|y|} \\frac{x_{i,d}(1 - p_{k,d}) - (1 - x_{i,d})*p_{k,d}}{p_{k,d}(1 - x_{i,d})} = 0 $\n",
    "</p>\n",
    "<p style=\"text-align: center;\">\n",
    "$ \\sum_{i}^{|y|} x_{i,d}(1 - p_{k,d}) - (1 - x_{i,d})*p_{k,d} = 0 $\n",
    "</p>\n",
    "<p style=\"text-align: center;\">\n",
    "$ \\sum_{i}^{|y|} x_{i,d} -x_{i,d}p_{k,d} -p_{k,d} + x_{i,d}p_{k,d}  = 0 $\n",
    "</p>\n",
    "<p style=\"text-align: center;\">\n",
    "$ \\sum_{i}^{|y|} x_{i,d} -p_{k,d} = 0 $\n",
    "</p>\n",
    "<p style=\"text-align: center;\">\n",
    "$  |y| * p_{k,d}  = \\sum_{i}^{|y|} x_{i,d} $\n",
    "</p>\n",
    "<p style=\"text-align: center;\">\n",
    "$   p_{k,d,*}  = \\frac{1}{|y|}\\sum_{i}^{|y|} x_{i,d} $\n",
    "</p>\n",
    "\n",
    "Après avoir calculer tous les $p_{k,d,*}$, la fonction de prédiction est :\n",
    "<p style=\"text-align: center;\">\n",
    "    $f_{\\theta}(x_i) = argmax_y  \\prod_{d}^{D} p_{k,d,*}^{x_{i,d}}*(1 - p_{k,d,*})^{(1 - x_{i,d})} * \\frac{1}{N}\\sum_{i}^{N} classe(x_i,y_j) $\n",
    "</p>\n"
   ]
  },
  {
   "cell_type": "code",
   "execution_count": 39,
   "id": "exotic-thermal",
   "metadata": {},
   "outputs": [],
   "source": [
    "def BayesienNaif_fit(X,y):\n",
    "    N = X.shape[0]\n",
    "    D = X.shape[1]\n",
    "    \n",
    "    pkd = np.zeros((K,D))\n",
    "    Pk = np.zeros((K,))\n",
    "    \n",
    "    for k in range(K):\n",
    "        mask = (y == k)\n",
    "        Pk[k] = np.sum(mask) / N\n",
    "        \n",
    "        Xk = X[mask]\n",
    "        for d in range(D):\n",
    "            count = 0\n",
    "            for n in range(Xk.shape[0]):\n",
    "                count += Xk[n , d]\n",
    "            \n",
    "            pkd[k , d] = count / Xk.shape[0]\n",
    "    \n",
    "    return pkd, Pk\n",
    "\n",
    "def BayesienNaif_predict(X,pkd, Pk):\n",
    "    epsilon = 1e-8\n",
    "    N = X.shape[0]\n",
    "    D = X.shape[1]\n",
    "    \n",
    "    y_pred = np.zeros(N)\n",
    "    \n",
    "    for n in range(N):\n",
    "        x = X[n]\n",
    "        score = np.zeros(K)\n",
    "        for k in range(K):\n",
    "            score[k] = (\n",
    "                np.log(Pk[k])\n",
    "                +\n",
    "                np.sum(\n",
    "                x * np.log(pkd[k] + epsilon)\n",
    "                    +\n",
    "                (1 - x) * np.log(1 - pkd[k] + epsilon)\n",
    "                )\n",
    "            )\n",
    "        k = np.argmax(score)\n",
    "        y_pred[n] = k\n",
    "    return y_pred"
   ]
  },
  {
   "cell_type": "markdown",
   "id": "executive-morocco",
   "metadata": {},
   "source": [
    "## Test du modèle"
   ]
  },
  {
   "cell_type": "code",
   "execution_count": 40,
   "id": "polish-relevance",
   "metadata": {},
   "outputs": [],
   "source": [
    "pkd , Pk = BayesienNaif_fit(X_train, np.array(y_train))"
   ]
  },
  {
   "cell_type": "markdown",
   "id": "desirable-thickness",
   "metadata": {},
   "source": [
    "## Résultat du modèle"
   ]
  },
  {
   "cell_type": "code",
   "execution_count": 44,
   "id": "5748569d-e2b2-4cd2-aae0-42c8ac4964f8",
   "metadata": {},
   "outputs": [],
   "source": [
    "y_pred_train = BayesienNaif_predict(X_train, pkd,Pk)\n",
    "y_pred_test = BayesienNaif_predict(X_test, pkd,Pk)"
   ]
  },
  {
   "cell_type": "code",
   "execution_count": 45,
   "id": "balanced-ceramic",
   "metadata": {},
   "outputs": [
    {
     "name": "stdout",
     "output_type": "stream",
     "text": [
      "Accuracy du modele en train:  84.1580310880829 %\n",
      "Accuracy du modele en test:  83.84256861729675 %\n"
     ]
    }
   ],
   "source": [
    "print(\"Accuracy du modele en train: \",(np.sum(y_train == y_pred_train) / X_train.shape[0]) *100,\"%\")\n",
    "print(\"Accuracy du modele en test: \",(np.sum(y_test == y_pred_test) / X_test.shape[0]) *100,\"%\")"
   ]
  },
  {
   "cell_type": "markdown",
   "id": "603780e3-af5d-485d-a73e-047348cbf7ce",
   "metadata": {},
   "source": [
    "## Conclusion"
   ]
  },
  {
   "cell_type": "markdown",
   "id": "7fe3b6ae-7bb2-4759-b461-7e9ed7a0665c",
   "metadata": {},
   "source": [
    "Nous voyons que ce modèle de prédiction basé sur un classifieur naif bayesien réussi à obtenir un bon score de prédiction en entrainement et en test"
   ]
  }
 ],
 "metadata": {
  "kernelspec": {
   "display_name": "Python 3 (ipykernel)",
   "language": "python",
   "name": "python3"
  },
  "language_info": {
   "codemirror_mode": {
    "name": "ipython",
    "version": 3
   },
   "file_extension": ".py",
   "mimetype": "text/x-python",
   "name": "python",
   "nbconvert_exporter": "python",
   "pygments_lexer": "ipython3",
   "version": "3.9.12"
  }
 },
 "nbformat": 4,
 "nbformat_minor": 5
}
