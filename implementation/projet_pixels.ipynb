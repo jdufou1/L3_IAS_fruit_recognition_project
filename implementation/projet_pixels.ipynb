{
 "cells": [
  {
   "cell_type": "markdown",
   "id": "ready-institute",
   "metadata": {},
   "source": [
    "## Partie : Prediction basée sur les pixels"
   ]
  },
  {
   "cell_type": "markdown",
   "id": "peaceful-speech",
   "metadata": {},
   "source": [
    "## Importation des bibliothèques"
   ]
  },
  {
   "cell_type": "code",
   "execution_count": 3,
   "id": "speaking-victim",
   "metadata": {},
   "outputs": [],
   "source": [
    "import numpy as np\n",
    "import os\n",
    "import matplotlib.image as mpimg\n",
    "import matplotlib.pyplot as plt\n",
    "from skimage import io\n",
    "from PIL import Image\n",
    "from pylab import *\n",
    "import random\n",
    "from sklearn.utils import shuffle"
   ]
  },
  {
   "cell_type": "markdown",
   "id": "opponent-individual",
   "metadata": {},
   "source": [
    "## Importation des données"
   ]
  },
  {
   "cell_type": "code",
   "execution_count": null,
   "id": "furnished-macro",
   "metadata": {},
   "outputs": [],
   "source": [
    "images = []\n",
    "y = []\n",
    "lire_images(\"./Training/Banana\", images, y,0)\n",
    "lire_images(\"./Training/Corn\", images, y,1)\n",
    "lire_images(\"./Training/Strawberry\", images, y,2)\n",
    "lire_images(\"./Training/Raspberry\", images, y,3)\n",
    "lire_images(\"./Training/Clementine\", images, y,4)\n",
    "lire_images(\"./Training/Pear Williams\", images, y,5)\n",
    "lire_images(\"./Training/Nectarine\", images, y,6)\n",
    "lire_images(\"./Training/Orange\", images, y,7)\n",
    "lire_images(\"./Training/Lychee\", images, y,8)\n",
    "lire_images(\"./Training/Kiwi\", images, y,9)\n",
    "lire_images(\"./Training/Blueberry\", images, y,10)\n",
    "lire_images(\"./Training/Cherry 1\", images, y,11)\n",
    "lire_images(\"./Training/Apricot\", images, y,12)\n",
    "lire_images(\"./Training/Lemon\", images, y,13)\n",
    "lire_images(\"./Training/Watermelon\", images, y,14)\n",
    "lire_images(\"./Training/Tangelo\", images, y,15)\n",
    "lire_images(\"./Training/Plum\", images, y,16)\n",
    "lire_images(\"./Training/Peach\", images, y,17)\n",
    "lire_images(\"./Training/Kaki\", images, y,18)\n",
    "lire_images(\"./Training/Mango\", images, y,19)\n",
    "\n",
    "\n",
    "fruits = [\"Banane\",\"Mais\",\"Fraise\",\"Framboise\",\"Clementine\",\"Poire\",\n",
    "          \"Nectarine\",\"Orange\",\"Lychee\",\"Kiwi\",\"Mirtille\",\"Cerise\",\n",
    "          \"Abricot\",\"Citron\",\"Melon\",\"Tangelo\",\"Plum\",\"Peche\",\"Kaki\",\"Mangue\"]\n",
    "\n",
    "K = len(fruits)"
   ]
  },
  {
   "cell_type": "code",
   "execution_count": 6,
   "id": "rural-chemical",
   "metadata": {},
   "outputs": [
    {
     "name": "stdout",
     "output_type": "stream",
     "text": [
      "(9651, 50, 50, 3)\n"
     ]
    }
   ],
   "source": [
    "print(np.shape(images))"
   ]
  },
  {
   "cell_type": "markdown",
   "id": "received-mount",
   "metadata": {},
   "source": [
    "## Fonctions de préparation des données"
   ]
  },
  {
   "cell_type": "code",
   "execution_count": 9,
   "id": "regulated-outline",
   "metadata": {},
   "outputs": [],
   "source": [
    "def transformer_en_gris(img_orig):\n",
    "    im = np.zeros((img_orig.shape[0],img_orig.shape[1])) # On fait une copie de l'original\n",
    "    for i in range(img_orig.shape[0]):\n",
    "        for j in range(img_orig.shape[1]):\n",
    "            r, v, b = img_orig[i, j]\n",
    "            moyenne = np.mean(img_orig[i, j])\n",
    "            im[i, j] = int(moyenne)\n",
    "    return im \n",
    "\n",
    "def transformation(arr):\n",
    "    l = np.zeros((np.shape(arr)[0],np.shape(arr)[1],np.shape(arr)[2]))\n",
    "    for i in range(np.shape(arr)[0]):\n",
    "        l[i] = transformer_en_gris(arr[i])\n",
    "    return l\n",
    "\n",
    "def applatir(images):\n",
    "    taille_applatie = np.shape(images)[1]*np.shape(images)[2]\n",
    "    images_applaties = np.zeros((np.shape(images)[0],taille_applatie))\n",
    "    for i in range(len(images)):\n",
    "        images_applaties[i]= images[i].ravel()\n",
    "    return images_applaties"
   ]
  },
  {
   "cell_type": "markdown",
   "id": "metropolitan-function",
   "metadata": {},
   "source": [
    "## Fonctions de preprocessing"
   ]
  },
  {
   "cell_type": "code",
   "execution_count": 7,
   "id": "still-stockholm",
   "metadata": {},
   "outputs": [],
   "source": [
    "# PREPROCESSING\n",
    "# CREATION DE X\n",
    "images_grises = transformation(images)"
   ]
  },
  {
   "cell_type": "code",
   "execution_count": 10,
   "id": "about-computer",
   "metadata": {},
   "outputs": [
    {
     "name": "stdout",
     "output_type": "stream",
     "text": [
      "(9651, 50, 50)\n",
      "(9651, 2500)\n"
     ]
    }
   ],
   "source": [
    "print(images_grises.shape)\n",
    "X = applatir(images_grises)\n",
    "print(X.shape)"
   ]
  },
  {
   "cell_type": "code",
   "execution_count": 11,
   "id": "linear-convention",
   "metadata": {},
   "outputs": [],
   "source": [
    "# On melange le dataset\n",
    "X , y  = shuffle(X, y, random_state=10)"
   ]
  },
  {
   "cell_type": "code",
   "execution_count": 12,
   "id": "advanced-gregory",
   "metadata": {},
   "outputs": [],
   "source": [
    "## on binarise X, de sorte que il vaut soit 0 soit 1,\n",
    "## comme les valeurs prises par une loi de Bernoulli\n",
    "X /= X.max()\n",
    "mask = (X > 0.5)\n",
    "X[mask] = 1\n",
    "X[np.invert(mask)] = 0"
   ]
  },
  {
   "cell_type": "code",
   "execution_count": 13,
   "id": "colored-narrative",
   "metadata": {},
   "outputs": [],
   "source": [
    "Ntot   =  X.shape[0]\n",
    "Ntrain = int(0.8 * Ntot)\n",
    "\n",
    "X_train = X[:Ntrain]\n",
    "X_test  = X[Ntrain:]\n",
    "y_train = y[:Ntrain]\n",
    "y_test  = y[Ntrain:]"
   ]
  },
  {
   "cell_type": "markdown",
   "id": "difficult-simpson",
   "metadata": {},
   "source": [
    "## Modèle d'apprentissage : Le Bayésien Naïf"
   ]
  },
  {
   "cell_type": "code",
   "execution_count": 14,
   "id": "exotic-thermal",
   "metadata": {},
   "outputs": [],
   "source": [
    "## ALGO APPRENTISSAGE\n",
    "\n",
    "def BayesienNaif_fit(X,y):\n",
    "    N = X.shape[0]\n",
    "    D = X.shape[1]\n",
    "    \n",
    "    pkd = np.zeros((K,D))\n",
    "    Pk = np.zeros((K,))\n",
    "    \n",
    "    for k in range(K):\n",
    "        mask = (y == k)\n",
    "        Pk[k] = np.sum(mask) / N\n",
    "        \n",
    "        Xk = X[mask]\n",
    "        for d in range(D):\n",
    "            count = 0\n",
    "            for n in range(Xk.shape[0]):\n",
    "                count += Xk[n , d]\n",
    "            \n",
    "            pkd[k , d] = count / Xk.shape[0]\n",
    "    \n",
    "    return pkd, Pk\n",
    "\n",
    "## la fonction de dećision (a parametres fixés) ##\n",
    "def BayesienNaif_predict(X,pkd, Pk):\n",
    "    epsilon = 1e-8\n",
    "    N = X.shape[0]\n",
    "    D = X.shape[1]\n",
    "    \n",
    "    y_pred = np.zeros(N)\n",
    "    \n",
    "    for n in range(N):\n",
    "        x = X[n]\n",
    "        score = np.zeros(K)\n",
    "        for k in range(K):\n",
    "            score[k] = (\n",
    "                np.log(Pk[k])\n",
    "                +\n",
    "                np.sum(\n",
    "                x * np.log(pkd[k] + epsilon)\n",
    "                    +\n",
    "                (1 - x) * np.log(1 - pkd[k] + epsilon)\n",
    "                )\n",
    "            )\n",
    "        k = np.argmax(score)\n",
    "        y_pred[n] = k\n",
    "    return y_pred"
   ]
  },
  {
   "cell_type": "markdown",
   "id": "executive-morocco",
   "metadata": {},
   "source": [
    "## Test du modèle"
   ]
  },
  {
   "cell_type": "code",
   "execution_count": 15,
   "id": "tracked-canberra",
   "metadata": {},
   "outputs": [
    {
     "data": {
      "image/png": "[encoded data removed]",
      "text/plain": [
       "<Figure size 432x288 with 1 Axes>"
      ]
     },
     "metadata": {
      "needs_background": "light"
     },
     "output_type": "display_data"
    }
   ],
   "source": [
    "\n",
    "## Affichage d'une image\n",
    "plt.figure()\n",
    "n=1 # fruit a tester\n",
    "plt.imshow(X_test[n].reshape(50,50) , cm.gray)\n",
    "plt.title(\"ceci est censé ressembler à un(e) \"+str(fruits[y_test[n]])+\" apres la binarisation\")\n",
    "plt.show()"
   ]
  },
  {
   "cell_type": "code",
   "execution_count": 1,
   "id": "polish-relevance",
   "metadata": {},
   "outputs": [
    {
     "ename": "NameError",
     "evalue": "name 'BayesienNaif_fit' is not defined",
     "output_type": "error",
     "traceback": [
      "\u001b[1;31m---------------------------------------------------------------------------\u001b[0m",
      "\u001b[1;31mNameError\u001b[0m                                 Traceback (most recent call last)",
      "\u001b[1;32m<ipython-input-1-f410374c7d19>\u001b[0m in \u001b[0;36m<module>\u001b[1;34m\u001b[0m\n\u001b[0;32m      1\u001b[0m \u001b[1;31m# ENTRAINEMENT\u001b[0m\u001b[1;33m\u001b[0m\u001b[1;33m\u001b[0m\u001b[1;33m\u001b[0m\u001b[0m\n\u001b[1;32m----> 2\u001b[1;33m \u001b[0mpkd\u001b[0m \u001b[1;33m,\u001b[0m \u001b[0mPk\u001b[0m \u001b[1;33m=\u001b[0m \u001b[0mBayesienNaif_fit\u001b[0m\u001b[1;33m(\u001b[0m\u001b[0mX_train\u001b[0m\u001b[1;33m,\u001b[0m \u001b[0mnp\u001b[0m\u001b[1;33m.\u001b[0m\u001b[0marray\u001b[0m\u001b[1;33m(\u001b[0m\u001b[0my_train\u001b[0m\u001b[1;33m)\u001b[0m\u001b[1;33m)\u001b[0m\u001b[1;33m\u001b[0m\u001b[1;33m\u001b[0m\u001b[0m\n\u001b[0m",
      "\u001b[1;31mNameError\u001b[0m: name 'BayesienNaif_fit' is not defined"
     ]
    }
   ],
   "source": [
    "# ENTRAINEMENT\n",
    "pkd , Pk = BayesienNaif_fit(X_train, np.array(y_train))"
   ]
  },
  {
   "cell_type": "markdown",
   "id": "desirable-thickness",
   "metadata": {},
   "source": [
    "## Résultat du modèle"
   ]
  },
  {
   "cell_type": "code",
   "execution_count": 18,
   "id": "balanced-ceramic",
   "metadata": {},
   "outputs": [
    {
     "name": "stdout",
     "output_type": "stream",
     "text": [
      "image test valeur réel :  Poire  valeur prédite :  Poire\n",
      "Accuracy :  85.08544795442776 %\n"
     ]
    }
   ],
   "source": [
    "# TEST\n",
    "ypred = BayesienNaif_predict(X_test, pkd,Pk)\n",
    "print(\"image test valeur réel : \",fruits[int(y_test[n])],\" valeur prédite : \",fruits[int(ypred[n])])\n",
    "print(\"Accuracy : \",(np.sum(y_test == ypred) / X_test.shape[0]) *100,\"%\")"
   ]
  },
  {
   "cell_type": "code",
   "execution_count": null,
   "id": "economic-scroll",
   "metadata": {},
   "outputs": [],
   "source": []
  }
 ],
 "metadata": {
  "kernelspec": {
   "display_name": "Python 3",
   "language": "python",
   "name": "python3"
  },
  "language_info": {
   "codemirror_mode": {
    "name": "ipython",
    "version": 3
   },
   "file_extension": ".py",
   "mimetype": "text/x-python",
   "name": "python",
   "nbconvert_exporter": "python",
   "pygments_lexer": "ipython3",
   "version": "3.8.3"
  }
 },
 "nbformat": 4,
 "nbformat_minor": 5
}
