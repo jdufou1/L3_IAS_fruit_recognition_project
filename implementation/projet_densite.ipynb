{
 "cells": [
  {
   "cell_type": "markdown",
   "id": "native-costa",
   "metadata": {},
   "source": [
    "## Partie : Prediction basée sur les densité de nuance de gris"
   ]
  },
  {
   "cell_type": "markdown",
   "id": "77cfc416-b5a1-4273-bba2-09e27f405ffb",
   "metadata": {},
   "source": [
    "Ce notebook présente l'apprentissage d'un classifieur de fruits multiclasse avec un classifieur naif bayesin s'appuyant sur la loi de bernoulli.\n",
    "Ce qui est important avec ce choix de modélisation, c'est qu'il faut que nos données soit binaire, c'est à dire 0/1, car c'est le critère de l'expérience de Bernouilli. Donc, dans cette partie nous allons étudier les performance d'un pre processing sur les images en transformant nos images en nuance de gris puis en récupérant la densité de couleur en fonction de deux hyper paramètres qui sont le nombre de bins et la valeur seuil $\\alpha$ à partir duquel les valeurs sont binarisées et enfin nous appliquons un masque à ce dernier pour binariser les entrées"
   ]
  },
  {
   "cell_type": "markdown",
   "id": "integrated-receptor",
   "metadata": {},
   "source": [
    "## Importation des bibliothèques"
   ]
  },
  {
   "cell_type": "code",
   "execution_count": 2,
   "id": "religious-canvas",
   "metadata": {},
   "outputs": [],
   "source": [
    "import numpy as np\n",
    "import matplotlib.pyplot as plt\n",
    "import matplotlib.cm as cm\n",
    "import matplotlib.image as mpimg\n",
    "from skimage import io\n",
    "import os\n",
    "from tqdm import tqdm\n",
    "from sklearn.utils import shuffle"
   ]
  },
  {
   "cell_type": "markdown",
   "id": "loving-welsh",
   "metadata": {},
   "source": [
    "## Importation des données"
   ]
  },
  {
   "cell_type": "markdown",
   "id": "96c68bde-07a6-4086-83ac-431fa42a4083",
   "metadata": {},
   "source": [
    "Nous avons extrait ces données depuis un dataset disponible sur kaggle à l'adresse suivante : https://www.kaggle.com/datasets/moltean/fruits"
   ]
  },
  {
   "cell_type": "code",
   "execution_count": 3,
   "id": "345e1cdd-880a-4e50-81d6-368ad5221d97",
   "metadata": {},
   "outputs": [],
   "source": [
    "fruits = [\"Banane\",\"Mais\",\"Fraise\",\"Framboise\",\"Clementine\",\"Poire\",\n",
    "          \"Nectarine\",\"Orange\",\"Lychee\",\"Kiwi\",\"Mirtille\",\"Cerise\",\n",
    "          \"Abricot\",\"Citron\",\"Melon\",\"Tangelo\",\"Plum\",\"Peche\",\"Kaki\",\"Mangue\"]"
   ]
  },
  {
   "cell_type": "code",
   "execution_count": 4,
   "id": "diagnostic-wallace",
   "metadata": {},
   "outputs": [
    {
     "name": "stdout",
     "output_type": "stream",
     "text": [
      "chargement Banane\n"
     ]
    },
    {
     "name": "stderr",
     "output_type": "stream",
     "text": [
      "100%|████████████████████████████████████████████████████████████████████████████████████████████████████████████████████████████████████████████████████████████████████████████████████████████████████| 490/490 [00:01<00:00, 331.81it/s]\n"
     ]
    },
    {
     "name": "stdout",
     "output_type": "stream",
     "text": [
      "chargement Mais\n"
     ]
    },
    {
     "name": "stderr",
     "output_type": "stream",
     "text": [
      "100%|████████████████████████████████████████████████████████████████████████████████████████████████████████████████████████████████████████████████████████████████████████████████████████████████████| 450/450 [00:03<00:00, 145.50it/s]\n"
     ]
    },
    {
     "name": "stdout",
     "output_type": "stream",
     "text": [
      "chargement Fraise\n"
     ]
    },
    {
     "name": "stderr",
     "output_type": "stream",
     "text": [
      "100%|████████████████████████████████████████████████████████████████████████████████████████████████████████████████████████████████████████████████████████████████████████████████████████████████████| 492/492 [00:02<00:00, 242.59it/s]\n"
     ]
    },
    {
     "name": "stdout",
     "output_type": "stream",
     "text": [
      "chargement Framboise\n"
     ]
    },
    {
     "name": "stderr",
     "output_type": "stream",
     "text": [
      "100%|████████████████████████████████████████████████████████████████████████████████████████████████████████████████████████████████████████████████████████████████████████████████████████████████████| 490/490 [00:03<00:00, 123.72it/s]\n"
     ]
    },
    {
     "name": "stdout",
     "output_type": "stream",
     "text": [
      "chargement Clementine\n"
     ]
    },
    {
     "name": "stderr",
     "output_type": "stream",
     "text": [
      "100%|████████████████████████████████████████████████████████████████████████████████████████████████████████████████████████████████████████████████████████████████████████████████████████████████████| 490/490 [00:02<00:00, 168.23it/s]\n"
     ]
    },
    {
     "name": "stdout",
     "output_type": "stream",
     "text": [
      "chargement Poire\n"
     ]
    },
    {
     "name": "stderr",
     "output_type": "stream",
     "text": [
      "100%|████████████████████████████████████████████████████████████████████████████████████████████████████████████████████████████████████████████████████████████████████████████████████████████████████| 490/490 [00:02<00:00, 181.97it/s]\n"
     ]
    },
    {
     "name": "stdout",
     "output_type": "stream",
     "text": [
      "chargement Nectarine\n"
     ]
    },
    {
     "name": "stderr",
     "output_type": "stream",
     "text": [
      "100%|████████████████████████████████████████████████████████████████████████████████████████████████████████████████████████████████████████████████████████████████████████████████████████████████████| 492/492 [00:02<00:00, 210.02it/s]\n"
     ]
    },
    {
     "name": "stdout",
     "output_type": "stream",
     "text": [
      "chargement Orange\n"
     ]
    },
    {
     "name": "stderr",
     "output_type": "stream",
     "text": [
      "100%|████████████████████████████████████████████████████████████████████████████████████████████████████████████████████████████████████████████████████████████████████████████████████████████████████| 479/479 [00:01<00:00, 391.63it/s]\n"
     ]
    },
    {
     "name": "stdout",
     "output_type": "stream",
     "text": [
      "chargement Lychee\n"
     ]
    },
    {
     "name": "stderr",
     "output_type": "stream",
     "text": [
      "100%|████████████████████████████████████████████████████████████████████████████████████████████████████████████████████████████████████████████████████████████████████████████████████████████████████| 490/490 [00:03<00:00, 125.02it/s]\n"
     ]
    },
    {
     "name": "stdout",
     "output_type": "stream",
     "text": [
      "chargement Kiwi\n"
     ]
    },
    {
     "name": "stderr",
     "output_type": "stream",
     "text": [
      "100%|████████████████████████████████████████████████████████████████████████████████████████████████████████████████████████████████████████████████████████████████████████████████████████████████████| 466/466 [00:01<00:00, 397.47it/s]\n"
     ]
    },
    {
     "name": "stdout",
     "output_type": "stream",
     "text": [
      "chargement Mirtille\n"
     ]
    },
    {
     "name": "stderr",
     "output_type": "stream",
     "text": [
      "100%|████████████████████████████████████████████████████████████████████████████████████████████████████████████████████████████████████████████████████████████████████████████████████████████████████| 462/462 [00:02<00:00, 178.52it/s]\n"
     ]
    },
    {
     "name": "stdout",
     "output_type": "stream",
     "text": [
      "chargement Cerise\n"
     ]
    },
    {
     "name": "stderr",
     "output_type": "stream",
     "text": [
      "100%|████████████████████████████████████████████████████████████████████████████████████████████████████████████████████████████████████████████████████████████████████████████████████████████████████| 492/492 [00:02<00:00, 214.71it/s]\n"
     ]
    },
    {
     "name": "stdout",
     "output_type": "stream",
     "text": [
      "chargement Abricot\n"
     ]
    },
    {
     "name": "stderr",
     "output_type": "stream",
     "text": [
      "100%|████████████████████████████████████████████████████████████████████████████████████████████████████████████████████████████████████████████████████████████████████████████████████████████████████| 492/492 [00:01<00:00, 313.29it/s]\n"
     ]
    },
    {
     "name": "stdout",
     "output_type": "stream",
     "text": [
      "chargement Citron\n"
     ]
    },
    {
     "name": "stderr",
     "output_type": "stream",
     "text": [
      "100%|████████████████████████████████████████████████████████████████████████████████████████████████████████████████████████████████████████████████████████████████████████████████████████████████████| 492/492 [00:01<00:00, 333.34it/s]\n"
     ]
    },
    {
     "name": "stdout",
     "output_type": "stream",
     "text": [
      "chargement Melon\n"
     ]
    },
    {
     "name": "stderr",
     "output_type": "stream",
     "text": [
      "100%|████████████████████████████████████████████████████████████████████████████████████████████████████████████████████████████████████████████████████████████████████████████████████████████████████| 475/475 [00:01<00:00, 386.80it/s]\n"
     ]
    },
    {
     "name": "stdout",
     "output_type": "stream",
     "text": [
      "chargement Tangelo\n"
     ]
    },
    {
     "name": "stderr",
     "output_type": "stream",
     "text": [
      "100%|████████████████████████████████████████████████████████████████████████████████████████████████████████████████████████████████████████████████████████████████████████████████████████████████████| 490/490 [00:04<00:00, 113.21it/s]\n"
     ]
    },
    {
     "name": "stdout",
     "output_type": "stream",
     "text": [
      "chargement Plum\n"
     ]
    },
    {
     "name": "stderr",
     "output_type": "stream",
     "text": [
      "100%|████████████████████████████████████████████████████████████████████████████████████████████████████████████████████████████████████████████████████████████████████████████████████████████████████| 447/447 [00:02<00:00, 192.46it/s]\n"
     ]
    },
    {
     "name": "stdout",
     "output_type": "stream",
     "text": [
      "chargement Peche\n"
     ]
    },
    {
     "name": "stderr",
     "output_type": "stream",
     "text": [
      "100%|████████████████████████████████████████████████████████████████████████████████████████████████████████████████████████████████████████████████████████████████████████████████████████████████████| 492/492 [00:02<00:00, 217.82it/s]\n"
     ]
    },
    {
     "name": "stdout",
     "output_type": "stream",
     "text": [
      "chargement Kaki\n"
     ]
    },
    {
     "name": "stderr",
     "output_type": "stream",
     "text": [
      "100%|████████████████████████████████████████████████████████████████████████████████████████████████████████████████████████████████████████████████████████████████████████████████████████████████████| 490/490 [00:01<00:00, 460.05it/s]\n"
     ]
    },
    {
     "name": "stdout",
     "output_type": "stream",
     "text": [
      "chargement Mangue\n"
     ]
    },
    {
     "name": "stderr",
     "output_type": "stream",
     "text": [
      "100%|████████████████████████████████████████████████████████████████████████████████████████████████████████████████████████████████████████████████████████████████████████████████████████████████████| 490/490 [00:03<00:00, 153.32it/s]\n"
     ]
    }
   ],
   "source": [
    "format_fichier = [\".jpg\"]\n",
    "\n",
    "def lire_images(cheminRacine, array, y, index):   \n",
    "    print(f\"chargement {fruits[index]}\")\n",
    "    for lists in tqdm(os.listdir(cheminRacine)): \n",
    "        chemin = os.path.join(cheminRacine, lists) \n",
    "        filename, extension = os.path.splitext(chemin) \n",
    "        if extension in format_fichier:   \n",
    "            array.append(mpimg.imread(chemin))\n",
    "            y.append(index)\n",
    "        if os.path.isdir(chemin): \n",
    "            lire_images(chemin, array, y, index)\n",
    "images = []\n",
    "classes = []\n",
    "\n",
    "#remplissage de la liste d'images + classes\n",
    "lire_images(\"../Training/Banana\", images, classes, 0)\n",
    "lire_images(\"../Training/Corn\", images, classes, 1)\n",
    "lire_images(\"../Training/Strawberry\", images, classes, 2)\n",
    "lire_images(\"../Training/Raspberry\", images, classes, 3)\n",
    "lire_images(\"../Training/Clementine\", images, classes, 4)\n",
    "lire_images(\"../Training/Pear Williams\", images, classes, 5)\n",
    "lire_images(\"../Training/Nectarine\", images, classes, 6)\n",
    "lire_images(\"../Training/Orange\", images, classes, 7)\n",
    "lire_images(\"../Training/Lychee\", images, classes, 8)\n",
    "lire_images(\"../Training/Kiwi\", images, classes, 9)\n",
    "lire_images(\"../Training/Blueberry\", images, classes, 10)\n",
    "lire_images(\"../Training/Cherry 1\", images, classes, 11)\n",
    "lire_images(\"../Training/Apricot\", images, classes, 12)\n",
    "lire_images(\"../Training/Lemon\", images, classes, 13)\n",
    "lire_images(\"../Training/Watermelon\", images, classes, 14)\n",
    "lire_images(\"../Training/Tangelo\", images, classes, 15)\n",
    "lire_images(\"../Training/Plum\", images, classes, 16)\n",
    "lire_images(\"../Training/Peach\", images, classes, 17)\n",
    "lire_images(\"../Training/Kaki\", images, classes, 18)\n",
    "lire_images(\"../Training/Mango\", images, classes, 19)\n",
    "\n",
    "\n",
    "\n",
    "\n",
    "K = len(fruits)\n",
    "\n",
    "images,classes = shuffle(images, classes, random_state=10) "
   ]
  },
  {
   "cell_type": "code",
   "execution_count": 5,
   "id": "839dae07-a0cb-4207-999d-8f352e1f96fa",
   "metadata": {},
   "outputs": [
    {
     "name": "stdout",
     "output_type": "stream",
     "text": [
      "(9651, 50, 50, 3)\n",
      "(9651,)\n",
      "Nous avons au total 9651 images dans notre dataset en 50x50 avec 3 couleurs\n"
     ]
    }
   ],
   "source": [
    "images = np.asarray(images, dtype=int)\n",
    "classes = np.asarray(classes, dtype=int)\n",
    "\n",
    "print(images.shape)\n",
    "print(classes.shape)\n",
    "print(f\"Nous avons au total {len(images)} images dans notre dataset en 50x50 avec 3 couleurs\") "
   ]
  },
  {
   "cell_type": "code",
   "execution_count": 6,
   "id": "85c2fd27-4022-43be-9645-4878b3147d55",
   "metadata": {},
   "outputs": [
    {
     "name": "stdout",
     "output_type": "stream",
     "text": [
      "Voici une representation d'images de notre dataset :\n"
     ]
    },
    {
     "data": {
      "image/png": "[encoded data removed]",
      "text/plain": [
       "<Figure size 432x288 with 1 Axes>"
      ]
     },
     "metadata": {
      "needs_background": "light"
     },
     "output_type": "display_data"
    }
   ],
   "source": [
    "print(\"Voici une representation d'images de notre dataset :\")\n",
    "index_demo = 1\n",
    "img_demo = images[index_demo]\n",
    "plt.figure()\n",
    "plt.imshow(img_demo)\n",
    "plt.title(fruits[classes[index_demo]])\n",
    "plt.show()"
   ]
  },
  {
   "cell_type": "markdown",
   "id": "settled-canada",
   "metadata": {},
   "source": [
    "## Fonctions de préparation des données"
   ]
  },
  {
   "cell_type": "code",
   "execution_count": 11,
   "id": "manufactured-devices",
   "metadata": {},
   "outputs": [],
   "source": [
    "def transformer_en_gris(img_orig):\n",
    "    im = np.zeros((img_orig.shape[0],img_orig.shape[1])) # On fait une copie de l'original\n",
    "    for i in range(img_orig.shape[0]):\n",
    "        for j in range(img_orig.shape[1]):\n",
    "            r, v, b = img_orig[i, j]\n",
    "            moyenne = np.mean(img_orig[i, j])\n",
    "            im[i, j] = int(moyenne)\n",
    "    return im "
   ]
  },
  {
   "cell_type": "markdown",
   "id": "finished-authorization",
   "metadata": {},
   "source": [
    "## Fonctions de preprocessing"
   ]
  },
  {
   "cell_type": "code",
   "execution_count": 70,
   "id": "d3c75b06-0030-4689-a480-18eddf7a8527",
   "metadata": {},
   "outputs": [
    {
     "data": {
      "image/png": "[encoded data removed]",
      "text/plain": [
       "<Figure size 432x288 with 1 Axes>"
      ]
     },
     "metadata": {
      "needs_background": "light"
     },
     "output_type": "display_data"
    }
   ],
   "source": [
    "index_test = 5\n",
    "image_test = images[index_test]\n",
    "dens = histoPerImage(image_test,255)\n",
    "plt.figure()\n",
    "plt.title(f\"densite en gris de {fruits[classes[index_test]]}\")\n",
    "plt.plot(dens)\n",
    "plt.ylabel(\"nombre de pixel\")\n",
    "plt.xlabel(\"nuance de gris\")\n",
    "plt.show()"
   ]
  },
  {
   "cell_type": "code",
   "execution_count": 53,
   "id": "psychological-chest",
   "metadata": {},
   "outputs": [],
   "source": [
    "def histoPerImage(image,nbBins):\n",
    "    NBbins = nbBins\n",
    "    bins = np.linspace(0, 255, NBbins)\n",
    "    image = transformer_en_gris(image)\n",
    "    densiteGris, bin_trash = np.histogram(image.ravel(),bins)\n",
    "    return densiteGris#[:-1] # SUPPRIME TOUT LES PIXELS BLANC"
   ]
  },
  {
   "cell_type": "code",
   "execution_count": 54,
   "id": "piano-comfort",
   "metadata": {},
   "outputs": [],
   "source": [
    "def constructionXByHistogramme(images, nbBins,Alpha): # /!\\ nbBins >= 3 /!\\ \n",
    "    X = np.zeros((np.shape(images)[0],nbBins - 1))\n",
    "    for i in tqdm(range(np.shape(images)[0])):\n",
    "        histo = histoPerImage(images[i],nbBins)\n",
    "        histo = np.array(histo, dtype = np.float)\n",
    "        histo /= histo.max()\n",
    "        mask = (histo > Alpha)\n",
    "        histo[mask] = 1\n",
    "        histo[np.invert(mask)] = 0\n",
    "        X[i] = histo\n",
    "    return X"
   ]
  },
  {
   "cell_type": "code",
   "execution_count": 55,
   "id": "olive-enterprise",
   "metadata": {},
   "outputs": [
    {
     "name": "stderr",
     "output_type": "stream",
     "text": [
      "  0%|                                                                                                                                                                                                              | 0/9651 [00:00<?, ?it/s]C:\\Users\\jerem\\AppData\\Local\\Temp\\ipykernel_15840\\2675002167.py:5: DeprecationWarning: `np.float` is a deprecated alias for the builtin `float`. To silence this warning, use `float` by itself. Doing this will not modify any behavior and is safe. If you specifically wanted the numpy scalar type, use `np.float64` here.\n",
      "Deprecated in NumPy 1.20; for more details and guidance: https://numpy.org/devdocs/release/1.20.0-notes.html#deprecations\n",
      "  histo = np.array(histo, dtype = np.float)\n",
      "100%|███████████████████████████████████████████████████████████████████████████████████████████████████████████████████████████████████████████████████████████████████████████████████████████████████| 9651/9651 [04:51<00:00, 33.05it/s]\n"
     ]
    }
   ],
   "source": [
    "Alpha = 0.01\n",
    "NbBins = 255\n",
    "X = constructionXByHistogramme(images,NbBins,Alpha)\n",
    "y = np.array(classes)"
   ]
  },
  {
   "cell_type": "code",
   "execution_count": 56,
   "id": "4b5de620-340f-4e4a-829c-858dda572901",
   "metadata": {},
   "outputs": [
    {
     "name": "stdout",
     "output_type": "stream",
     "text": [
      "(9651, 254)\n",
      "(9651,)\n"
     ]
    }
   ],
   "source": [
    "print(X.shape)\n",
    "print(y.shape)"
   ]
  },
  {
   "cell_type": "code",
   "execution_count": 57,
   "id": "political-chemistry",
   "metadata": {},
   "outputs": [],
   "source": [
    "Ntot   =  X.shape[0]\n",
    "Ntrain = int(0.8 * Ntot)\n",
    "\n",
    "X_train = X[:Ntrain]\n",
    "X_test  = X[Ntrain:]\n",
    "y_train = y[:Ntrain]\n",
    "y_test  = y[Ntrain:]"
   ]
  },
  {
   "cell_type": "code",
   "execution_count": 58,
   "id": "32eb12cd-13f0-4ee0-b71e-969207e4350d",
   "metadata": {},
   "outputs": [
    {
     "name": "stdout",
     "output_type": "stream",
     "text": [
      "(7720, 254)\n",
      "(1931, 254)\n",
      "(7720,)\n",
      "(1931,)\n"
     ]
    }
   ],
   "source": [
    "print(X_train.shape)\n",
    "print(X_test.shape)\n",
    "print(y_train.shape)\n",
    "print(y_test.shape)"
   ]
  },
  {
   "cell_type": "markdown",
   "id": "756c1135-c9c8-41f0-9e0c-eb4b32879ea9",
   "metadata": {},
   "source": [
    "## Modèle du bayesien naïf : representation sous forme de loi de Bernoulli\n",
    "\n",
    "Pour contruire notre fonction de classification, on va représenter nos données sous forme binaire afin de pouvoir effectuer une expérience de Bernoulli dessus. C'est à dire que chaque dimension d'un exemple doit valoir soit 0 soit 1 afin qu'on puisse calculer ce type de probabilité :\n",
    "$ P(X_d = x_d | \\theta , y) = p_i^{x_d}*(1 - p_d)^{(1 - x_d)}$ ou $d$ représente une dimension, $p_d \\in[0,1] $ la probabilité que cette dimension prenne la valeur $1$ , $y \\in \\{classe\\}$ la classe, et $x_d \\in \\{0,1\\}$ la valeur possible.\n",
    "\n",
    "Pour construire notre classifieur, nous cherchons à choisir la probabilité maximum d'une classe par rapport a l'image et a des paramètres que l'on va apprendre. on écrit cela ainsi :\n",
    "<p style=\"text-align: center;\">\n",
    "    $ y_{pred} = argmax_y P(y | x_i , \\theta)$\n",
    "</p>\n",
    "Ou $i$ représente l'image $i$.\n",
    "\n",
    "Notre fonction de prediction s'écrira donc : \n",
    "<p style=\"text-align: center;\">\n",
    "    $f_{\\theta}(x_i) = argmax_y P(y | x_i , \\theta)$\n",
    "</p>\n",
    "Pour calculer la quantité $P(y | x_i , \\theta)$, nous allons passer par la loi de Bayes ($P(A,B) = P(A|B)P(B) = P(B|A)P(A) <=> P(A|B) = P(B|A)P(A)/P(B)$)\n",
    "\n",
    "Ce qui nous donne : $P(y | x_i , \\theta) = \\frac{P(x_i | y , \\theta) P(y)}{P(x_i)}$. De plus, on remarque que $P(x_i)$ est constant pour chaque classe, nous pouvons donc l'enlever de l'équation car le résultat sera proportionnel. \\\n",
    "On obtient : \n",
    "<p style=\"text-align: center;\">\n",
    "    $P(y | x_i , \\theta) = P(x_i | y , \\theta) P(y) $\n",
    "</p>\n",
    "La prior $P(y)$ est la probabilté qu'un exemple soit de la classe $y$ donc nous pouvons calculer cette quantité trivialement en comptant le nombre \n",
    "d'exemple de la classe puis en divisant par le nombre total d'exemples tel que.\n",
    "<p style=\"text-align: center;\">\n",
    "    $P(y_j) = \\frac{1}{N}\\sum_{i}^{N} classe(x_i,y_j)$\n",
    "</p>\n",
    "Ou $N$ représente le nombre d'exemple du dataset et $classe(x_i)$ est une fonction indicatrice si $x_i$ est bien de la classe $y_i$\n",
    "\n",
    "La vraissemblance des données par rapport aux classes et aux paramètres ce calcul de la manière suivante en faisant une hypothèse d'indépendance entre les dimensions sinon le calcul n'aura pas été faisable: \n",
    "<p style=\"text-align: center;\">\n",
    "    $ P(x_i | y_k , \\theta) = \\prod_{d}^{D} P(x_{i,d} | \\theta)$\n",
    "</p>\n",
    "<p style=\"text-align: center;\">\n",
    "    $ = \\prod_{d}^{D} p_{k,d}^{x_{i,d}}*(1 - p_{k,d})^{(1 - x_{i,d})}$\n",
    "</p>\n",
    "Nous voyons d'après cette équations que nous avons à trouver les valeurs de NbBinsx20 paramètres ($p_{k,d} \\in \\theta$).\n",
    "20 : nombre de classe\n",
    "\n",
    "En résumant les équations ci-dessus la fonction finale de prédiction s'écrit : \n",
    "<p style=\"text-align: center;\">\n",
    "    $f_{\\theta}(x_i) = argmax_y  \\prod_{d}^{D} p_{k,d}^{x_{i,d}}*(1 - p_{k,d})^{(1 - x_{i,d})} * \\frac{1}{N}\\sum_{i}^{N} classe(x_i,y_j) $\n",
    "</p>\n",
    "\n",
    "Nous avons à présent besoin de trouver les paramètres $p_{k,d}$ nécessaire à notre fonction de prédiction. Pour cela nous allons les estimés par la méthode du maximum de vraisemblance. Comme nous l'avons dit plutot la vraisemblance se définit par : $ L(x_i,\\theta,y_k) = P(x_i | y_k , \\theta) = \\prod_{d}^{D} P(x_{i,d} | \\theta)$ pour un exemple de la classe $k$. La vraisemblance d'un ensemble d'exemple pour la classe $k$ s'exprime par ($|y_k|$ représente le nombre d'exemple de la classe $k$) : \n",
    "<p style=\"text-align: center;\">\n",
    "$L(x,\\theta,y_k) = \\prod_{i}^{|y_k|} \\prod_{d}^{D} P(x_{i,d} | \\theta) $\n",
    "</p>\n",
    "<p style=\"text-align: center;\">\n",
    "$ = \\prod_{i}^{|y|} \\prod_{d}^{D} p_{k,d}^{x_{i,d}}*(1 - p_{k,d})^{(1 - x_{i,d})} $\n",
    "</p>\n",
    "\n",
    "Pour trouver les $p_{k,d}^{*}$, nous allons devoir dérivée cette expression afin de trouver l'optimum de cette fonction et d'isoler les $p_{k,d}$. Pour cela, nous allons d'abord calculer la log-vraissemblance pour faciliter les calculs ensuite (log(.) étant une fonction strictement croissante, cela ne fausse donc pas les calculs).\n",
    "<p style=\"text-align: center;\">\n",
    "$ log L(x,\\theta,y_k) = log \\prod_{i}^{|y|} \\prod_{d}^{D} p_{k,d}^{x_{i,d}}*(1 - p_{k,d})^{(1 - x_{i,d})} $\n",
    "</p>\n",
    "<p style=\"text-align: center;\">\n",
    "$ = \\sum_{i}^{|y|} \\sum_{d}^{D} log[ p_{k,d}^{x_{i,d}}*(1 - p_{k,d})^{(1 - x_{i,d})}] $ (log(a * b) = log(a) + log(b))\n",
    "</p>\n",
    "<p style=\"text-align: center;\">\n",
    "$ = \\sum_{i}^{|y|} \\sum_{d}^{D} x_{i,d}*log(p_{k,d}) + (1 - x_{i,d})*log(1 - p_{k,d}) $\n",
    "</p>\n",
    "\n",
    "Nous allons maintenant annuler la dérivé de cette expression par rapport aux $p_{k,d}$:\n",
    "\n",
    "<p style=\"text-align: center;\">\n",
    "$ (log L(x,\\theta,y_k))'(p_{k,d}) = \\sum_{i}^{|y|} \\frac{x_{i,d}}{p_{k,d}}-\\frac{1 - x_{i,d}}{1 - p_{k,d}}  $ (d étant en indice on peut enlever la somme et dérivé de somme = somme des dérivées)\n",
    "</p>\n",
    "\n",
    "Isolons les $p_{k,d}$ en posant l'équations = 0.\n",
    "<p style=\"text-align: center;\">\n",
    "$ (log L(x,\\theta,y_k))'(p_{k,d}) = 0 $\n",
    "</p>\n",
    "<p style=\"text-align: center;\">\n",
    "$ \\sum_{i}^{|y|} \\frac{x_{i,d}}{p_{k,d}}-\\frac{1 - x_{i,d}}{1 - p_{k,d}} = 0 $\n",
    "</p>\n",
    "<p style=\"text-align: center;\">\n",
    "$ \\sum_{i}^{|y|} \\frac{x_{i,d}(1 - p_{k,d}) - (1 - x_{i,d})*p_{k,d}}{p_{k,d}(1 - x_{i,d})} = 0 $\n",
    "</p>\n",
    "<p style=\"text-align: center;\">\n",
    "$ \\sum_{i}^{|y|} x_{i,d}(1 - p_{k,d}) - (1 - x_{i,d})*p_{k,d} = 0 $\n",
    "</p>\n",
    "<p style=\"text-align: center;\">\n",
    "$ \\sum_{i}^{|y|} x_{i,d} -x_{i,d}p_{k,d} -p_{k,d} + x_{i,d}p_{k,d}  = 0 $\n",
    "</p>\n",
    "<p style=\"text-align: center;\">\n",
    "$ \\sum_{i}^{|y|} x_{i,d} -p_{k,d} = 0 $\n",
    "</p>\n",
    "<p style=\"text-align: center;\">\n",
    "$  |y| * p_{k,d}  = \\sum_{i}^{|y|} x_{i,d} $\n",
    "</p>\n",
    "<p style=\"text-align: center;\">\n",
    "$   p_{k,d,*}  = \\frac{1}{|y|}\\sum_{i}^{|y|} x_{i,d} $\n",
    "</p>\n",
    "\n",
    "Après avoir calculer tous les $p_{k,d,*}$, la fonction de prédiction est :\n",
    "<p style=\"text-align: center;\">\n",
    "    $f_{\\theta}(x_i) = argmax_y  \\prod_{d}^{D} p_{k,d,*}^{x_{i,d}}*(1 - p_{k,d,*})^{(1 - x_{i,d})} * \\frac{1}{N}\\sum_{i}^{N} classe(x_i,y_j) $\n",
    "</p>\n"
   ]
  },
  {
   "cell_type": "code",
   "execution_count": 59,
   "id": "several-throw",
   "metadata": {},
   "outputs": [],
   "source": [
    "def BayesienNaif_fit(X,y):\n",
    "    N = X.shape[0]\n",
    "    D = X.shape[1]\n",
    "    \n",
    "    pkd = np.zeros((K,D))\n",
    "    Pk = np.zeros((K,))\n",
    "    \n",
    "    for k in range(K):\n",
    "        mask = (y == k)\n",
    "        Pk[k] = np.sum(mask) / N\n",
    "        \n",
    "        Xk = X[mask]\n",
    "        for d in range(D):\n",
    "            count = 0\n",
    "            for n in range(Xk.shape[0]):\n",
    "                count += Xk[n , d]\n",
    "            \n",
    "            pkd[k , d] = count / Xk.shape[0]\n",
    "    \n",
    "    return pkd, Pk\n",
    "\n",
    "## la fonction de dećision (a parametres fixés) ##\n",
    "def BayesienNaif_predict(X,pkd, Pk):\n",
    "    epsilon = 1e-8\n",
    "    N = X.shape[0]\n",
    "    D = X.shape[1]\n",
    "    \n",
    "    y_pred = np.zeros(N)\n",
    "    \n",
    "    for n in range(N):\n",
    "        x = X[n]\n",
    "        score = np.zeros(K)\n",
    "        for k in range(K):\n",
    "            score[k] = (\n",
    "                np.log(Pk[k])\n",
    "                +\n",
    "                np.sum(\n",
    "                x * np.log(pkd[k] + epsilon)\n",
    "                    +\n",
    "                (1 - x) * np.log(1 - pkd[k] + epsilon)\n",
    "                )\n",
    "            )\n",
    "        k = np.argmax(score)\n",
    "        y_pred[n] = k\n",
    "    return y_pred"
   ]
  },
  {
   "cell_type": "markdown",
   "id": "average-keeping",
   "metadata": {},
   "source": [
    "## Test du modèle"
   ]
  },
  {
   "cell_type": "code",
   "execution_count": 60,
   "id": "superb-leadership",
   "metadata": {},
   "outputs": [],
   "source": [
    "## Entrainement du modèle\n",
    "pkd , Pk = BayesienNaif_fit(X_train, y_train)"
   ]
  },
  {
   "cell_type": "markdown",
   "id": "suspended-virus",
   "metadata": {},
   "source": [
    "## Résultat du modèle"
   ]
  },
  {
   "cell_type": "code",
   "execution_count": 61,
   "id": "b60b4c53-6204-47d9-8d36-86423e1fe827",
   "metadata": {},
   "outputs": [],
   "source": [
    "y_pred_train = BayesienNaif_predict(X_train, pkd,Pk)\n",
    "y_pred_test = BayesienNaif_predict(X_test, pkd,Pk)"
   ]
  },
  {
   "cell_type": "code",
   "execution_count": 62,
   "id": "split-lodge",
   "metadata": {},
   "outputs": [
    {
     "name": "stdout",
     "output_type": "stream",
     "text": [
      "Accuracy du modele en train:  78.48445595854923 %\n",
      "Accuracy du modele en test:  79.02641118591404 %\n"
     ]
    }
   ],
   "source": [
    "print(\"Accuracy du modele en train: \",(np.sum(y_train == y_pred_train) / X_train.shape[0]) *100,\"%\")\n",
    "print(\"Accuracy du modele en test: \",(np.sum(y_test == y_pred_test) / X_test.shape[0]) *100,\"%\")"
   ]
  },
  {
   "cell_type": "markdown",
   "id": "c3166310-fbcb-47a6-88c3-828b0c755246",
   "metadata": {},
   "source": [
    "## Variation des hyper-paramètres : "
   ]
  },
  {
   "cell_type": "code",
   "execution_count": 64,
   "id": "11ba31ab-daa5-4cff-81bd-97eb9e7803c9",
   "metadata": {},
   "outputs": [
    {
     "name": "stderr",
     "output_type": "stream",
     "text": [
      "  0%|                                                                                                                                                                                                              | 0/9651 [00:00<?, ?it/s]C:\\Users\\jerem\\AppData\\Local\\Temp\\ipykernel_15840\\2675002167.py:5: DeprecationWarning: `np.float` is a deprecated alias for the builtin `float`. To silence this warning, use `float` by itself. Doing this will not modify any behavior and is safe. If you specifically wanted the numpy scalar type, use `np.float64` here.\n",
      "Deprecated in NumPy 1.20; for more details and guidance: https://numpy.org/devdocs/release/1.20.0-notes.html#deprecations\n",
      "  histo = np.array(histo, dtype = np.float)\n",
      "100%|███████████████████████████████████████████████████████████████████████████████████████████████████████████████████████████████████████████████████████████████████████████████████████████████████| 9651/9651 [04:49<00:00, 33.36it/s]\n"
     ]
    },
    {
     "name": "stdout",
     "output_type": "stream",
     "text": [
      "alpha = 0.0001 , nbbins = 5\n",
      "Accuracy du modele en train:  6.632124352331606 %\n",
      "Accuracy du modele en test:  6.11082340756085 %\n"
     ]
    },
    {
     "name": "stderr",
     "output_type": "stream",
     "text": [
      "100%|███████████████████████████████████████████████████████████████████████████████████████████████████████████████████████████████████████████████████████████████████████████████████████████████████| 9651/9651 [04:46<00:00, 33.70it/s]\n"
     ]
    },
    {
     "name": "stdout",
     "output_type": "stream",
     "text": [
      "alpha = 0.0001 , nbbins = 50\n",
      "Accuracy du modele en train:  34.740932642487046 %\n",
      "Accuracy du modele en test:  33.35059554634904 %\n"
     ]
    },
    {
     "name": "stderr",
     "output_type": "stream",
     "text": [
      "100%|███████████████████████████████████████████████████████████████████████████████████████████████████████████████████████████████████████████████████████████████████████████████████████████████████| 9651/9651 [04:43<00:00, 34.01it/s]\n"
     ]
    },
    {
     "name": "stdout",
     "output_type": "stream",
     "text": [
      "alpha = 0.0001 , nbbins = 100\n",
      "Accuracy du modele en train:  55.58290155440414 %\n",
      "Accuracy du modele en test:  53.236664940445365 %\n"
     ]
    },
    {
     "name": "stderr",
     "output_type": "stream",
     "text": [
      "100%|███████████████████████████████████████████████████████████████████████████████████████████████████████████████████████████████████████████████████████████████████████████████████████████████████| 9651/9651 [04:44<00:00, 33.97it/s]\n"
     ]
    },
    {
     "name": "stdout",
     "output_type": "stream",
     "text": [
      "alpha = 0.0001 , nbbins = 150\n",
      "Accuracy du modele en train:  66.96891191709845 %\n",
      "Accuracy du modele en test:  64.7332988089073 %\n"
     ]
    },
    {
     "name": "stderr",
     "output_type": "stream",
     "text": [
      "100%|███████████████████████████████████████████████████████████████████████████████████████████████████████████████████████████████████████████████████████████████████████████████████████████████████| 9651/9651 [04:45<00:00, 33.76it/s]\n"
     ]
    },
    {
     "name": "stdout",
     "output_type": "stream",
     "text": [
      "alpha = 0.0001 , nbbins = 200\n",
      "Accuracy du modele en train:  72.02072538860104 %\n",
      "Accuracy du modele en test:  69.3423096841015 %\n"
     ]
    },
    {
     "name": "stderr",
     "output_type": "stream",
     "text": [
      "100%|███████████████████████████████████████████████████████████████████████████████████████████████████████████████████████████████████████████████████████████████████████████████████████████████████| 9651/9651 [04:44<00:00, 33.89it/s]\n"
     ]
    },
    {
     "name": "stdout",
     "output_type": "stream",
     "text": [
      "alpha = 0.0001 , nbbins = 255\n",
      "Accuracy du modele en train:  74.30051813471502 %\n",
      "Accuracy du modele en test:  71.20662868979804 %\n"
     ]
    },
    {
     "name": "stderr",
     "output_type": "stream",
     "text": [
      "100%|███████████████████████████████████████████████████████████████████████████████████████████████████████████████████████████████████████████████████████████████████████████████████████████████████| 9651/9651 [04:43<00:00, 34.03it/s]\n"
     ]
    },
    {
     "name": "stdout",
     "output_type": "stream",
     "text": [
      "alpha = 0.001 , nbbins = 5\n",
      "Accuracy du modele en train:  7.629533678756477 %\n",
      "Accuracy du modele en test:  7.146556188503367 %\n"
     ]
    },
    {
     "name": "stderr",
     "output_type": "stream",
     "text": [
      "100%|███████████████████████████████████████████████████████████████████████████████████████████████████████████████████████████████████████████████████████████████████████████████████████████████████| 9651/9651 [04:29<00:00, 35.82it/s]\n"
     ]
    },
    {
     "name": "stdout",
     "output_type": "stream",
     "text": [
      "alpha = 0.001 , nbbins = 50\n",
      "Accuracy du modele en train:  37.862694300518136 %\n",
      "Accuracy du modele en test:  36.35422061108234 %\n"
     ]
    },
    {
     "name": "stderr",
     "output_type": "stream",
     "text": [
      "100%|███████████████████████████████████████████████████████████████████████████████████████████████████████████████████████████████████████████████████████████████████████████████████████████████████| 9651/9651 [04:30<00:00, 35.73it/s]\n"
     ]
    },
    {
     "name": "stdout",
     "output_type": "stream",
     "text": [
      "alpha = 0.001 , nbbins = 100\n",
      "Accuracy du modele en train:  58.5621761658031 %\n",
      "Accuracy du modele en test:  56.39564992232005 %\n"
     ]
    },
    {
     "name": "stderr",
     "output_type": "stream",
     "text": [
      "100%|███████████████████████████████████████████████████████████████████████████████████████████████████████████████████████████████████████████████████████████████████████████████████████████████████| 9651/9651 [04:29<00:00, 35.87it/s]\n"
     ]
    },
    {
     "name": "stdout",
     "output_type": "stream",
     "text": [
      "alpha = 0.001 , nbbins = 150\n",
      "Accuracy du modele en train:  68.35492227979275 %\n",
      "Accuracy du modele en test:  65.66545831175557 %\n"
     ]
    },
    {
     "name": "stderr",
     "output_type": "stream",
     "text": [
      "100%|███████████████████████████████████████████████████████████████████████████████████████████████████████████████████████████████████████████████████████████████████████████████████████████████████| 9651/9651 [04:29<00:00, 35.87it/s]\n"
     ]
    },
    {
     "name": "stdout",
     "output_type": "stream",
     "text": [
      "alpha = 0.001 , nbbins = 200\n",
      "Accuracy du modele en train:  73.08290155440415 %\n",
      "Accuracy du modele en test:  70.06732263076127 %\n"
     ]
    },
    {
     "name": "stderr",
     "output_type": "stream",
     "text": [
      "100%|███████████████████████████████████████████████████████████████████████████████████████████████████████████████████████████████████████████████████████████████████████████████████████████████████| 9651/9651 [04:33<00:00, 35.30it/s]\n"
     ]
    },
    {
     "name": "stdout",
     "output_type": "stream",
     "text": [
      "alpha = 0.001 , nbbins = 255\n",
      "Accuracy du modele en train:  75.12953367875647 %\n",
      "Accuracy du modele en test:  71.82806835836354 %\n"
     ]
    },
    {
     "name": "stderr",
     "output_type": "stream",
     "text": [
      "100%|███████████████████████████████████████████████████████████████████████████████████████████████████████████████████████████████████████████████████████████████████████████████████████████████████| 9651/9651 [04:43<00:00, 33.99it/s]\n"
     ]
    },
    {
     "name": "stdout",
     "output_type": "stream",
     "text": [
      "alpha = 0.005 , nbbins = 5\n",
      "Accuracy du modele en train:  9.572538860103627 %\n",
      "Accuracy du modele en test:  8.493008803728639 %\n"
     ]
    },
    {
     "name": "stderr",
     "output_type": "stream",
     "text": [
      "100%|███████████████████████████████████████████████████████████████████████████████████████████████████████████████████████████████████████████████████████████████████████████████████████████████████| 9651/9651 [04:37<00:00, 34.79it/s]\n"
     ]
    },
    {
     "name": "stdout",
     "output_type": "stream",
     "text": [
      "alpha = 0.005 , nbbins = 50\n",
      "Accuracy du modele en train:  59.028497409326434 %\n",
      "Accuracy du modele en test:  57.32780942516831 %\n"
     ]
    },
    {
     "name": "stderr",
     "output_type": "stream",
     "text": [
      "100%|███████████████████████████████████████████████████████████████████████████████████████████████████████████████████████████████████████████████████████████████████████████████████████████████████| 9651/9651 [04:33<00:00, 35.26it/s]\n"
     ]
    },
    {
     "name": "stdout",
     "output_type": "stream",
     "text": [
      "alpha = 0.005 , nbbins = 100\n",
      "Accuracy du modele en train:  71.47668393782384 %\n",
      "Accuracy du modele en test:  69.44588296219575 %\n"
     ]
    },
    {
     "name": "stderr",
     "output_type": "stream",
     "text": [
      "100%|███████████████████████████████████████████████████████████████████████████████████████████████████████████████████████████████████████████████████████████████████████████████████████████████████| 9651/9651 [04:45<00:00, 33.80it/s]\n"
     ]
    },
    {
     "name": "stdout",
     "output_type": "stream",
     "text": [
      "alpha = 0.005 , nbbins = 150\n",
      "Accuracy du modele en train:  75.64766839378238 %\n",
      "Accuracy du modele en test:  73.69238736406007 %\n"
     ]
    },
    {
     "name": "stderr",
     "output_type": "stream",
     "text": [
      "100%|███████████████████████████████████████████████████████████████████████████████████████████████████████████████████████████████████████████████████████████████████████████████████████████████████| 9651/9651 [04:51<00:00, 33.15it/s]\n"
     ]
    },
    {
     "name": "stdout",
     "output_type": "stream",
     "text": [
      "alpha = 0.005 , nbbins = 200\n",
      "Accuracy du modele en train:  78.38082901554404 %\n",
      "Accuracy du modele en test:  76.38529259451062 %\n"
     ]
    },
    {
     "name": "stderr",
     "output_type": "stream",
     "text": [
      "100%|███████████████████████████████████████████████████████████████████████████████████████████████████████████████████████████████████████████████████████████████████████████████████████████████████| 9651/9651 [04:53<00:00, 32.90it/s]\n"
     ]
    },
    {
     "name": "stdout",
     "output_type": "stream",
     "text": [
      "alpha = 0.005 , nbbins = 255\n",
      "Accuracy du modele en train:  79.49481865284974 %\n",
      "Accuracy du modele en test:  78.09425168306578 %\n"
     ]
    },
    {
     "name": "stderr",
     "output_type": "stream",
     "text": [
      "100%|███████████████████████████████████████████████████████████████████████████████████████████████████████████████████████████████████████████████████████████████████████████████████████████████████| 9651/9651 [04:46<00:00, 33.68it/s]\n"
     ]
    },
    {
     "name": "stdout",
     "output_type": "stream",
     "text": [
      "alpha = 0.01 , nbbins = 5\n",
      "Accuracy du modele en train:  10.22020725388601 %\n",
      "Accuracy du modele en test:  9.47695494562403 %\n"
     ]
    },
    {
     "name": "stderr",
     "output_type": "stream",
     "text": [
      "100%|███████████████████████████████████████████████████████████████████████████████████████████████████████████████████████████████████████████████████████████████████████████████████████████████████| 9651/9651 [04:53<00:00, 32.88it/s]\n"
     ]
    },
    {
     "name": "stdout",
     "output_type": "stream",
     "text": [
      "alpha = 0.01 , nbbins = 50\n",
      "Accuracy du modele en train:  66.72279792746114 %\n",
      "Accuracy du modele en test:  65.09580528223718 %\n"
     ]
    },
    {
     "name": "stderr",
     "output_type": "stream",
     "text": [
      "100%|███████████████████████████████████████████████████████████████████████████████████████████████████████████████████████████████████████████████████████████████████████████████████████████████████| 9651/9651 [05:00<00:00, 32.15it/s]\n"
     ]
    },
    {
     "name": "stdout",
     "output_type": "stream",
     "text": [
      "alpha = 0.01 , nbbins = 100\n",
      "Accuracy du modele en train:  76.73575129533678 %\n",
      "Accuracy du modele en test:  76.43707923355775 %\n"
     ]
    },
    {
     "name": "stderr",
     "output_type": "stream",
     "text": [
      "100%|███████████████████████████████████████████████████████████████████████████████████████████████████████████████████████████████████████████████████████████████████████████████████████████████████| 9651/9651 [04:54<00:00, 32.82it/s]\n"
     ]
    },
    {
     "name": "stdout",
     "output_type": "stream",
     "text": [
      "alpha = 0.01 , nbbins = 150\n",
      "Accuracy du modele en train:  79.01554404145078 %\n",
      "Accuracy du modele en test:  78.71569135163128 %\n"
     ]
    },
    {
     "name": "stderr",
     "output_type": "stream",
     "text": [
      "100%|███████████████████████████████████████████████████████████████████████████████████████████████████████████████████████████████████████████████████████████████████████████████████████████████████| 9651/9651 [04:51<00:00, 33.11it/s]\n"
     ]
    },
    {
     "name": "stdout",
     "output_type": "stream",
     "text": [
      "alpha = 0.01 , nbbins = 200\n",
      "Accuracy du modele en train:  80.11658031088082 %\n",
      "Accuracy du modele en test:  79.7514241325738 %\n"
     ]
    },
    {
     "name": "stderr",
     "output_type": "stream",
     "text": [
      "100%|███████████████████████████████████████████████████████████████████████████████████████████████████████████████████████████████████████████████████████████████████████████████████████████████████| 9651/9651 [04:45<00:00, 33.76it/s]\n"
     ]
    },
    {
     "name": "stdout",
     "output_type": "stream",
     "text": [
      "alpha = 0.01 , nbbins = 255\n",
      "Accuracy du modele en train:  78.48445595854923 %\n",
      "Accuracy du modele en test:  79.02641118591404 %\n"
     ]
    }
   ],
   "source": [
    "list_alpha = [0.0001,0.001,0.005,0.01]\n",
    "list_nbbins = [5,50,100,150,200,255]\n",
    "\n",
    "\n",
    "mat_res_train = np.zeros((len(list_alpha) , len(list_nbbins)))\n",
    "mat_res_test = np.zeros((len(list_alpha) , len(list_nbbins)))\n",
    "\n",
    "for index_alpha in range(len(list_alpha)) :\n",
    "    for index_nbbins in range(len(list_nbbins)) :\n",
    "        alpha = list_alpha[index_alpha]\n",
    "        nbbins = list_nbbins[index_nbbins]\n",
    "        # pre process\n",
    "        X = constructionXByHistogramme(images,nbbins,alpha)\n",
    "        y = np.array(classes)\n",
    "        Ntot   =  X.shape[0]\n",
    "        Ntrain = int(0.8 * Ntot)\n",
    "        X_train = X[:Ntrain]\n",
    "        X_test  = X[Ntrain:]\n",
    "        y_train = y[:Ntrain]\n",
    "        y_test  = y[Ntrain:]\n",
    "        # entrainement\n",
    "        pkd , Pk = BayesienNaif_fit(X_train, y_train)\n",
    "        # prediction\n",
    "        y_pred_train = BayesienNaif_predict(X_train, pkd,Pk)\n",
    "        y_pred_test = BayesienNaif_predict(X_test, pkd,Pk)\n",
    "        # test\n",
    "        acc_train = (np.sum(y_train == y_pred_train) / X_train.shape[0]) *100\n",
    "        acc_test = (np.sum(y_test == y_pred_test) / X_test.shape[0]) *100\n",
    "        \n",
    "        mat_res_train[index_alpha , index_nbbins] = acc_train\n",
    "        mat_res_test[index_alpha , index_nbbins] = acc_test\n",
    "        print(f\"alpha = {alpha} , nbbins = {nbbins}\")\n",
    "        print(\"Accuracy du modele en train: \",acc_train,\"%\")\n",
    "        print(\"Accuracy du modele en test: \",acc_test,\"%\")"
   ]
  },
  {
   "cell_type": "markdown",
   "id": "72ce720a-1729-45f6-80e2-3fa82e84758b",
   "metadata": {},
   "source": [
    "Nous constatons que les meilleurs paramètres sont : \n",
    "- $\\alpha = 0.01$\n",
    "- $nbbins = 200$"
   ]
  },
  {
   "cell_type": "markdown",
   "id": "f1964ac1-3943-44f2-8d3a-f8b19752e07e",
   "metadata": {},
   "source": [
    "## Conclusion"
   ]
  },
  {
   "cell_type": "markdown",
   "id": "72764e64-b38e-4595-be8a-bdacf2e09f17",
   "metadata": {},
   "source": [
    "Nous voyons que ce modèle de prédiction basé sur un classifieur naif bayesien réussi à obtenir un bon score de prédiction en entrainement et en test correct mais qui est toutefois moins bon que le pre processing par pixel. Cette approche requiert aussi moins de parametres à apprendre au maximum : 255x20 = 5080 paramètres."
   ]
  }
 ],
 "metadata": {
  "kernelspec": {
   "display_name": "Python 3 (ipykernel)",
   "language": "python",
   "name": "python3"
  },
  "language_info": {
   "codemirror_mode": {
    "name": "ipython",
    "version": 3
   },
   "file_extension": ".py",
   "mimetype": "text/x-python",
   "name": "python",
   "nbconvert_exporter": "python",
   "pygments_lexer": "ipython3",
   "version": "3.9.12"
  }
 },
 "nbformat": 4,
 "nbformat_minor": 5
}
