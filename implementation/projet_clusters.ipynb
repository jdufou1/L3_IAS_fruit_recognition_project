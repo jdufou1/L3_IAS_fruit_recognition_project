{
 "cells": [
  {
   "cell_type": "markdown",
   "id": "engaged-england",
   "metadata": {},
   "source": [
    "## Partie : Prédiction basée sur les clusters"
   ]
  },
  {
   "cell_type": "markdown",
   "id": "421928cb-b456-4555-af84-203ed3112a7b",
   "metadata": {},
   "source": [
    "Ce notebook présente l'apprentissage d'un classifieur de fruits multiclasse avec un classifieur naif bayesin s'appuyant sur la loi de bernoulli.\n",
    "Ce qui est important avec ce choix de modélisation, c'est qu'il faut que nos données soit binaire, c'est à dire 0/1, car c'est le critère de l'expérience de Bernouilli. Donc, dans cette partie nous allons étudier les performance d'un pre processing sur la découpage d'image en patch. Ces derniers seront ensuite dans un Kmeans afin de calculer les clusters. Enfin les images seront traduites par un vecteur de taille égale au nombre de clusters et qui contiendra 1 si un patch appartient à ce cluster."
   ]
  },
  {
   "cell_type": "markdown",
   "id": "virgin-creature",
   "metadata": {},
   "source": [
    "## Importation des libs"
   ]
  },
  {
   "cell_type": "code",
   "execution_count": 1,
   "id": "exempt-forge",
   "metadata": {},
   "outputs": [],
   "source": [
    "import os\n",
    "from tqdm import tqdm\n",
    "import numpy as np\n",
    "import matplotlib.image as mpimg\n",
    "import matplotlib.pyplot as plt\n",
    "import matplotlib.cm as cm\n",
    "from sklearn.utils import shuffle\n",
    "import random"
   ]
  },
  {
   "cell_type": "markdown",
   "id": "vocal-bubble",
   "metadata": {},
   "source": [
    "## Importation des données"
   ]
  },
  {
   "cell_type": "markdown",
   "id": "bb86d54d-d82e-4ef0-87e7-8b5a21b8e66c",
   "metadata": {},
   "source": [
    "Nous avons extrait ces données depuis un dataset disponible sur kaggle à l'adresse suivante : https://www.kaggle.com/datasets/moltean/fruits"
   ]
  },
  {
   "cell_type": "code",
   "execution_count": 2,
   "id": "0fb39779-89ce-4fca-803c-b7fd43fec7d6",
   "metadata": {},
   "outputs": [],
   "source": [
    "fruits = [\"Banane\",\"Mais\",\"Fraise\",\"Framboise\",\"Clementine\",\"Poire\",\n",
    "          \"Nectarine\",\"Orange\",\"Lychee\",\"Kiwi\",\"Mirtille\",\"Cerise\",\n",
    "          \"Abricot\",\"Citron\",\"Melon\",\"Tangelo\",\"Plum\",\"Peche\",\"Kaki\",\"Mangue\"]"
   ]
  },
  {
   "cell_type": "code",
   "execution_count": 36,
   "id": "stuffed-benefit",
   "metadata": {},
   "outputs": [
    {
     "name": "stdout",
     "output_type": "stream",
     "text": [
      "chargement Banane\n"
     ]
    },
    {
     "name": "stderr",
     "output_type": "stream",
     "text": [
      "100%|███████████████████████████████████████████████████████████████████████████████████████████████████████████████████████████████████████████████████████████████████████████████████████████████████| 490/490 [00:00<00:00, 2492.97it/s]\n"
     ]
    },
    {
     "name": "stdout",
     "output_type": "stream",
     "text": [
      "chargement Mais\n"
     ]
    },
    {
     "name": "stderr",
     "output_type": "stream",
     "text": [
      "100%|███████████████████████████████████████████████████████████████████████████████████████████████████████████████████████████████████████████████████████████████████████████████████████████████████| 450/450 [00:00<00:00, 2691.83it/s]\n"
     ]
    },
    {
     "name": "stdout",
     "output_type": "stream",
     "text": [
      "chargement Fraise\n"
     ]
    },
    {
     "name": "stderr",
     "output_type": "stream",
     "text": [
      "100%|███████████████████████████████████████████████████████████████████████████████████████████████████████████████████████████████████████████████████████████████████████████████████████████████████| 492/492 [00:00<00:00, 2186.34it/s]\n"
     ]
    },
    {
     "name": "stdout",
     "output_type": "stream",
     "text": [
      "chargement Framboise\n"
     ]
    },
    {
     "name": "stderr",
     "output_type": "stream",
     "text": [
      "100%|███████████████████████████████████████████████████████████████████████████████████████████████████████████████████████████████████████████████████████████████████████████████████████████████████| 490/490 [00:00<00:00, 2640.35it/s]\n"
     ]
    },
    {
     "name": "stdout",
     "output_type": "stream",
     "text": [
      "chargement Clementine\n"
     ]
    },
    {
     "name": "stderr",
     "output_type": "stream",
     "text": [
      "100%|███████████████████████████████████████████████████████████████████████████████████████████████████████████████████████████████████████████████████████████████████████████████████████████████████| 490/490 [00:00<00:00, 2703.98it/s]\n"
     ]
    },
    {
     "name": "stdout",
     "output_type": "stream",
     "text": [
      "chargement Poire\n"
     ]
    },
    {
     "name": "stderr",
     "output_type": "stream",
     "text": [
      "100%|███████████████████████████████████████████████████████████████████████████████████████████████████████████████████████████████████████████████████████████████████████████████████████████████████| 490/490 [00:00<00:00, 2685.42it/s]\n"
     ]
    },
    {
     "name": "stdout",
     "output_type": "stream",
     "text": [
      "chargement Nectarine\n"
     ]
    },
    {
     "name": "stderr",
     "output_type": "stream",
     "text": [
      "100%|███████████████████████████████████████████████████████████████████████████████████████████████████████████████████████████████████████████████████████████████████████████████████████████████████| 492/492 [00:00<00:00, 2354.46it/s]\n"
     ]
    },
    {
     "name": "stdout",
     "output_type": "stream",
     "text": [
      "chargement Orange\n"
     ]
    },
    {
     "name": "stderr",
     "output_type": "stream",
     "text": [
      "100%|███████████████████████████████████████████████████████████████████████████████████████████████████████████████████████████████████████████████████████████████████████████████████████████████████| 479/479 [00:00<00:00, 2563.63it/s]\n"
     ]
    },
    {
     "name": "stdout",
     "output_type": "stream",
     "text": [
      "chargement Lychee\n"
     ]
    },
    {
     "name": "stderr",
     "output_type": "stream",
     "text": [
      "100%|███████████████████████████████████████████████████████████████████████████████████████████████████████████████████████████████████████████████████████████████████████████████████████████████████| 490/490 [00:00<00:00, 2718.73it/s]\n"
     ]
    },
    {
     "name": "stdout",
     "output_type": "stream",
     "text": [
      "chargement Kiwi\n"
     ]
    },
    {
     "name": "stderr",
     "output_type": "stream",
     "text": [
      "100%|███████████████████████████████████████████████████████████████████████████████████████████████████████████████████████████████████████████████████████████████████████████████████████████████████| 466/466 [00:00<00:00, 2610.37it/s]\n"
     ]
    },
    {
     "name": "stdout",
     "output_type": "stream",
     "text": [
      "chargement Mirtille\n"
     ]
    },
    {
     "name": "stderr",
     "output_type": "stream",
     "text": [
      "100%|███████████████████████████████████████████████████████████████████████████████████████████████████████████████████████████████████████████████████████████████████████████████████████████████████| 462/462 [00:00<00:00, 2471.72it/s]\n"
     ]
    },
    {
     "name": "stdout",
     "output_type": "stream",
     "text": [
      "chargement Cerise\n"
     ]
    },
    {
     "name": "stderr",
     "output_type": "stream",
     "text": [
      "100%|███████████████████████████████████████████████████████████████████████████████████████████████████████████████████████████████████████████████████████████████████████████████████████████████████| 492/492 [00:00<00:00, 2577.97it/s]\n"
     ]
    },
    {
     "name": "stdout",
     "output_type": "stream",
     "text": [
      "chargement Abricot\n"
     ]
    },
    {
     "name": "stderr",
     "output_type": "stream",
     "text": [
      "100%|███████████████████████████████████████████████████████████████████████████████████████████████████████████████████████████████████████████████████████████████████████████████████████████████████| 492/492 [00:00<00:00, 2566.93it/s]\n"
     ]
    },
    {
     "name": "stdout",
     "output_type": "stream",
     "text": [
      "chargement Citron\n"
     ]
    },
    {
     "name": "stderr",
     "output_type": "stream",
     "text": [
      "100%|███████████████████████████████████████████████████████████████████████████████████████████████████████████████████████████████████████████████████████████████████████████████████████████████████| 492/492 [00:00<00:00, 2532.80it/s]\n"
     ]
    },
    {
     "name": "stdout",
     "output_type": "stream",
     "text": [
      "chargement Melon\n"
     ]
    },
    {
     "name": "stderr",
     "output_type": "stream",
     "text": [
      "100%|███████████████████████████████████████████████████████████████████████████████████████████████████████████████████████████████████████████████████████████████████████████████████████████████████| 475/475 [00:00<00:00, 2671.73it/s]\n"
     ]
    },
    {
     "name": "stdout",
     "output_type": "stream",
     "text": [
      "chargement Tangelo\n"
     ]
    },
    {
     "name": "stderr",
     "output_type": "stream",
     "text": [
      "100%|███████████████████████████████████████████████████████████████████████████████████████████████████████████████████████████████████████████████████████████████████████████████████████████████████| 490/490 [00:00<00:00, 2250.67it/s]\n"
     ]
    },
    {
     "name": "stdout",
     "output_type": "stream",
     "text": [
      "chargement Plum\n"
     ]
    },
    {
     "name": "stderr",
     "output_type": "stream",
     "text": [
      "100%|███████████████████████████████████████████████████████████████████████████████████████████████████████████████████████████████████████████████████████████████████████████████████████████████████| 447/447 [00:00<00:00, 2132.82it/s]\n"
     ]
    },
    {
     "name": "stdout",
     "output_type": "stream",
     "text": [
      "chargement Peche\n"
     ]
    },
    {
     "name": "stderr",
     "output_type": "stream",
     "text": [
      "100%|███████████████████████████████████████████████████████████████████████████████████████████████████████████████████████████████████████████████████████████████████████████████████████████████████| 492/492 [00:00<00:00, 1618.88it/s]\n"
     ]
    },
    {
     "name": "stdout",
     "output_type": "stream",
     "text": [
      "chargement Kaki\n"
     ]
    },
    {
     "name": "stderr",
     "output_type": "stream",
     "text": [
      "100%|███████████████████████████████████████████████████████████████████████████████████████████████████████████████████████████████████████████████████████████████████████████████████████████████████| 490/490 [00:00<00:00, 2098.84it/s]\n"
     ]
    },
    {
     "name": "stdout",
     "output_type": "stream",
     "text": [
      "chargement Mangue\n"
     ]
    },
    {
     "name": "stderr",
     "output_type": "stream",
     "text": [
      "100%|███████████████████████████████████████████████████████████████████████████████████████████████████████████████████████████████████████████████████████████████████████████████████████████████████| 490/490 [00:00<00:00, 1957.41it/s]\n"
     ]
    }
   ],
   "source": [
    "format_fichier = [\".jpg\"]\n",
    "\n",
    "def lire_images(cheminRacine, array, y, index):   \n",
    "    print(f\"chargement {fruits[index]}\")\n",
    "    for lists in tqdm(os.listdir(cheminRacine)): \n",
    "        chemin = os.path.join(cheminRacine, lists) \n",
    "        filename, extension = os.path.splitext(chemin) \n",
    "        if extension in format_fichier:   \n",
    "            array.append(mpimg.imread(chemin))\n",
    "            y.append(index)\n",
    "        if os.path.isdir(chemin): \n",
    "            lire_images(chemin, array, y, index)\n",
    "images = []\n",
    "classes = []\n",
    "\n",
    "#remplissage de la liste d'images + classes\n",
    "lire_images(\"../Training/Banana\", images, classes, 0)\n",
    "lire_images(\"../Training/Corn\", images, classes, 1)\n",
    "lire_images(\"../Training/Strawberry\", images, classes, 2)\n",
    "lire_images(\"../Training/Raspberry\", images, classes, 3)\n",
    "lire_images(\"../Training/Clementine\", images, classes, 4)\n",
    "lire_images(\"../Training/Pear Williams\", images, classes, 5)\n",
    "lire_images(\"../Training/Nectarine\", images, classes, 6)\n",
    "lire_images(\"../Training/Orange\", images, classes, 7)\n",
    "lire_images(\"../Training/Lychee\", images, classes, 8)\n",
    "lire_images(\"../Training/Kiwi\", images, classes, 9)\n",
    "lire_images(\"../Training/Blueberry\", images, classes, 10)\n",
    "lire_images(\"../Training/Cherry 1\", images, classes, 11)\n",
    "lire_images(\"../Training/Apricot\", images, classes, 12)\n",
    "lire_images(\"../Training/Lemon\", images, classes, 13)\n",
    "lire_images(\"../Training/Watermelon\", images, classes, 14)\n",
    "lire_images(\"../Training/Tangelo\", images, classes, 15)\n",
    "lire_images(\"../Training/Plum\", images, classes, 16)\n",
    "lire_images(\"../Training/Peach\", images, classes, 17)\n",
    "lire_images(\"../Training/Kaki\", images, classes, 18)\n",
    "lire_images(\"../Training/Mango\", images, classes, 19)\n",
    "\n",
    "\n",
    "\n",
    "\n",
    "K = len(fruits)\n",
    "\n",
    "images,classes = shuffle(images, classes, random_state=10) "
   ]
  },
  {
   "cell_type": "code",
   "execution_count": 37,
   "id": "4e3ad131-bfee-4b98-8f42-c296b207de4b",
   "metadata": {},
   "outputs": [
    {
     "name": "stdout",
     "output_type": "stream",
     "text": [
      "(9651, 50, 50, 3)\n",
      "(9651,)\n",
      "Nous avons au total 9651 images dans notre dataset en 50x50 avec 3 couleurs\n"
     ]
    }
   ],
   "source": [
    "images_a = np.asarray(images, dtype=int)\n",
    "classes_a = np.asarray(classes, dtype=int)\n",
    "\n",
    "print(images_a.shape)\n",
    "print(classes_a.shape)\n",
    "print(f\"Nous avons au total {len(images)} images dans notre dataset en 50x50 avec 3 couleurs\") "
   ]
  },
  {
   "cell_type": "code",
   "execution_count": 38,
   "id": "69f306df-6ea8-4865-b1f8-85831f119a06",
   "metadata": {},
   "outputs": [
    {
     "name": "stdout",
     "output_type": "stream",
     "text": [
      "Voici une representation d'images de notre dataset :\n"
     ]
    },
    {
     "data": {
      "image/png": "[encoded data removed]",
      "text/plain": [
       "<Figure size 432x288 with 1 Axes>"
      ]
     },
     "metadata": {
      "needs_background": "light"
     },
     "output_type": "display_data"
    }
   ],
   "source": [
    "print(\"Voici une representation d'images de notre dataset :\")\n",
    "index_demo = 1\n",
    "img_demo = images[index_demo]\n",
    "plt.figure()\n",
    "plt.imshow(img_demo)\n",
    "plt.title(fruits[classes[index_demo]])\n",
    "plt.show()"
   ]
  },
  {
   "cell_type": "markdown",
   "id": "entire-ocean",
   "metadata": {},
   "source": [
    "## Fonctions de préparation des données"
   ]
  },
  {
   "cell_type": "markdown",
   "id": "64aec358-3a80-43ad-bf85-91a9a0620575",
   "metadata": {},
   "source": [
    "Voici quelques fonctions utiles qui vont nous permettre de travailler sur nos données pour les découper en patch et de les transformer en nuance de gris."
   ]
  },
  {
   "cell_type": "code",
   "execution_count": 39,
   "id": "lyric-lemon",
   "metadata": {},
   "outputs": [],
   "source": [
    "def transformer_en_gris(img_orig):\n",
    "    im = np.zeros((img_orig.shape[0],img_orig.shape[1])) # On fait une copie de l'original\n",
    "    for i in range(img_orig.shape[0]):\n",
    "        for j in range(img_orig.shape[1]):\n",
    "            r, v, b = img_orig[i, j]\n",
    "            moyenne = np.mean(img_orig[i, j])\n",
    "            im[i, j] = int(moyenne)\n",
    "    return im\n",
    "\n",
    "def decouper_image(image, taille) :\n",
    "    return [image[x:x+taille,y:y+taille] for x in range(0,image.shape[0],taille) for y in range(0,image.shape[1],taille)]"
   ]
  },
  {
   "cell_type": "code",
   "execution_count": 40,
   "id": "7d28c44e-9902-4629-9921-8bfe5e13d5d5",
   "metadata": {},
   "outputs": [
    {
     "data": {
      "image/png": "[encoded data removed]",
      "text/plain": [
       "<Figure size 432x288 with 1 Axes>"
      ]
     },
     "metadata": {
      "needs_background": "light"
     },
     "output_type": "display_data"
    },
    {
     "name": "stdout",
     "output_type": "stream",
     "text": [
      "nombre de patch : 4\n",
      "dimension d'un patch de l'image (25, 25, 3)\n"
     ]
    },
    {
     "data": {
      "text/plain": [
       "<Figure size 432x288 with 0 Axes>"
      ]
     },
     "metadata": {},
     "output_type": "display_data"
    },
    {
     "data": {
      "image/png": "[encoded data removed]",
      "text/plain": [
       "<Figure size 432x288 with 1 Axes>"
      ]
     },
     "metadata": {
      "needs_background": "light"
     },
     "output_type": "display_data"
    },
    {
     "data": {
      "image/png": "[encoded data removed]",
      "text/plain": [
       "<Figure size 432x288 with 1 Axes>"
      ]
     },
     "metadata": {
      "needs_background": "light"
     },
     "output_type": "display_data"
    },
    {
     "data": {
      "image/png": "[encoded data removed]",
      "text/plain": [
       "<Figure size 432x288 with 1 Axes>"
      ]
     },
     "metadata": {
      "needs_background": "light"
     },
     "output_type": "display_data"
    },
    {
     "data": {
      "image/png": "[encoded data removed]",
      "text/plain": [
       "<Figure size 432x288 with 1 Axes>"
      ]
     },
     "metadata": {
      "needs_background": "light"
     },
     "output_type": "display_data"
    }
   ],
   "source": [
    "index_test = 0\n",
    "image_test = images[index_test]\n",
    "image_gris = transformer_en_gris(image_test)\n",
    "\n",
    "plt.figure()\n",
    "plt.imshow(image_gris,  cmap='gray')\n",
    "plt.title(fruits[classes[index_test]])\n",
    "plt.show()\n",
    "\n",
    "nbPatch = 4\n",
    "taillePatch = int((np.shape(images)[1]+np.shape(images)[2])/nbPatch)\n",
    "image_decoupe = decouper_image(image_test, taillePatch)\n",
    "print(f\"nombre de patch : {len(image_decoupe)}\")\n",
    "print(f\"dimension d'un patch de l'image {image_decoupe[0].shape}\")\n",
    "plt.figure()\n",
    "for i in range(nbPatch) :\n",
    "    plt.figure()\n",
    "    plt.imshow(image_decoupe[i])\n",
    "    plt.show()"
   ]
  },
  {
   "cell_type": "markdown",
   "id": "valued-surface",
   "metadata": {},
   "source": [
    "## Fonctions de preprocessing"
   ]
  },
  {
   "cell_type": "markdown",
   "id": "7a4a893f-0db8-4e23-9c2c-e9ff2d7c7087",
   "metadata": {},
   "source": [
    "Fonction qui prends en entrée un dataset d'image et qui retourne les images découpées en patch"
   ]
  },
  {
   "cell_type": "code",
   "execution_count": 18,
   "id": "numerous-freight",
   "metadata": {},
   "outputs": [],
   "source": [
    "def preprocessing(images,nbPatch):\n",
    "    taillePatch = int((np.shape(images)[1]+np.shape(images)[2])/nbPatch)\n",
    "    X = np.zeros((np.shape(images)[0]*nbPatch,taillePatch,taillePatch))\n",
    "    insertion = 0\n",
    "    for i in range(np.shape(images)[0]):\n",
    "        image_grise = transformer_en_gris(images[i]) # Recuperation de l'image i\n",
    "        image_decoupe_list = decouper_image(image_grise,taillePatch) # image découpé\n",
    "        for j in range(nbPatch):\n",
    "            X[insertion] = image_decoupe_list[j]\n",
    "            insertion += 1\n",
    "    return X"
   ]
  },
  {
   "cell_type": "code",
   "execution_count": 19,
   "id": "0d77f578-f487-41f8-aaa7-56dc87babc60",
   "metadata": {},
   "outputs": [],
   "source": [
    "X_preprocessing = preprocessing(images,4)"
   ]
  },
  {
   "cell_type": "code",
   "execution_count": 22,
   "id": "b8cdd955-67a3-47ff-b9a2-2a371d709b51",
   "metadata": {},
   "outputs": [
    {
     "name": "stdout",
     "output_type": "stream",
     "text": [
      "Patch disponible (38604, 25, 25)\n"
     ]
    }
   ],
   "source": [
    "print(f\"Patch disponible {X_preprocessing.shape}\")"
   ]
  },
  {
   "cell_type": "markdown",
   "id": "sound-modeling",
   "metadata": {},
   "source": [
    "## Algorithme des K-Moyennes"
   ]
  },
  {
   "cell_type": "code",
   "execution_count": 23,
   "id": "welsh-currency",
   "metadata": {},
   "outputs": [],
   "source": [
    "def dist(x1, x2) :\n",
    "    return np.abs(x1-x2).sum()\n",
    "\n",
    "class Kmoyennes:\n",
    "\n",
    "    def __init__(self,K, taillePatch, IterationMax): ## instanciation d'un objet du type de la classe.\n",
    "        self.K = K\n",
    "        self.taillePatch = taillePatch\n",
    "        self.N = 0\n",
    "        self.D = 0\n",
    "        self.IterationMax = IterationMax\n",
    "        self.affectations = np.zeros((self.N))\n",
    "        self.representants = np.zeros((self.K, self.taillePatch, self.taillePatch)) #les representants sont des patches\n",
    "    \n",
    "    def fit(self,X):\n",
    "        self.N = X.shape[0]\n",
    "        self.D = X.shape[1]\n",
    "        representants_initiaux = []\n",
    "        for i in range(self.K) :\n",
    "            representants_initiaux.append(np.random.randint(255, size=(self.taillePatch, self.taillePatch)))\n",
    "        representants = np.array(representants_initiaux)    \n",
    "        \n",
    "        for iterations in range(self.IterationMax):\n",
    "            affectations = self.maj_affectations(X, representants)\n",
    "            representants = self.maj_representants(X, affectations)\n",
    "            \n",
    "        self.representants = representants\n",
    "        self.affectations = affectations\n",
    "        return self.representants\n",
    "    \n",
    "    #retourne l'image moyenne (moyenne pixel a pixel de chaque patch du groupe X)\n",
    "    def barycentre(self, X) :\n",
    "        if X.shape[0] == 0 :\n",
    "            return None\n",
    "        return X.mean(axis=0)\n",
    "    \n",
    "    def maj_affectations(self, X, r):\n",
    "        N = X.shape[0]\n",
    "        K = r.shape[0]\n",
    "        a = np.zeros((N, K))\n",
    "        for n in range(N):\n",
    "            distances = np.zeros(K)\n",
    "            for k in range(K):\n",
    "                distances[k] = dist(X[n], r[k])\n",
    "            a[n, np.argmin(distances, axis=0)] = 1\n",
    "        return a\n",
    "\n",
    "    def maj_representants(self, X, a):\n",
    "        K = self.K\n",
    "        r = np.zeros((K,self.taillePatch, self.taillePatch))\n",
    "        for k in range(K):\n",
    "            masque = a[:,k] == 1\n",
    "            barycentre = self.barycentre(X[masque])\n",
    "            if barycentre is not None :\n",
    "                r[k] = barycentre\n",
    "        return r"
   ]
  },
  {
   "cell_type": "code",
   "execution_count": 24,
   "id": "resistant-collapse",
   "metadata": {},
   "outputs": [],
   "source": [
    "#retourne la matrice des appartenances des patches aux features pour chaque image\n",
    "def matrice_resultat_kmoyennes(affectationsKmeans, nbPatches):\n",
    "    resultats = np.zeros((int(affectationsKmeans.shape[0]/nbPatches),affectationsKmeans.shape[1]))\n",
    "    for image in range(resultats.shape[0]):\n",
    "        patchesImage = affectationsKmeans[(nbPatches*image):(nbPatches*image+nbPatches)]\n",
    "        somme = np.sum(patchesImage, axis=0)\n",
    "        somme[somme >= 1] = 1\n",
    "        resultats[image] = somme\n",
    "    return resultats"
   ]
  },
  {
   "cell_type": "markdown",
   "id": "9fdf67d4-3ae2-4c6b-bf1f-80c842721bfc",
   "metadata": {},
   "source": [
    "## Modèle du bayesien naïf : representation sous forme de loi de Bernoulli\n",
    "\n",
    "Pour contruire notre fonction de classification, on va représenter nos données sous forme binaire afin de pouvoir effectuer une expérience de Bernoulli dessus. C'est à dire que chaque dimension d'un exemple doit valoir soit 0 soit 1 afin qu'on puisse calculer ce type de probabilité :\n",
    "$ P(X_d = x_d | \\theta , y) = p_i^{x_d}*(1 - p_d)^{(1 - x_d)}$ ou $d$ représente une dimension, $p_d \\in[0,1] $ la probabilité que cette dimension prenne la valeur $1$ , $y \\in \\{classe\\}$ la classe, et $x_d \\in \\{0,1\\}$ la valeur possible.\n",
    "\n",
    "Pour construire notre classifieur, nous cherchons à choisir la probabilité maximum d'une classe par rapport a l'image et a des paramètres que l'on va apprendre. on écrit cela ainsi :\n",
    "<p style=\"text-align: center;\">\n",
    "    $ y_{pred} = argmax_y P(y | x_i , \\theta)$\n",
    "</p>\n",
    "Ou $i$ représente l'image $i$.\n",
    "\n",
    "Notre fonction de prediction s'écrira donc : \n",
    "<p style=\"text-align: center;\">\n",
    "    $f_{\\theta}(x_i) = argmax_y P(y | x_i , \\theta)$\n",
    "</p>\n",
    "Pour calculer la quantité $P(y | x_i , \\theta)$, nous allons passer par la loi de Bayes ($P(A,B) = P(A|B)P(B) = P(B|A)P(A) <=> P(A|B) = P(B|A)P(A)/P(B)$)\n",
    "\n",
    "Ce qui nous donne : $P(y | x_i , \\theta) = \\frac{P(x_i | y , \\theta) P(y)}{P(x_i)}$. De plus, on remarque que $P(x_i)$ est constant pour chaque classe, nous pouvons donc l'enlever de l'équation car le résultat sera proportionnel. \\\n",
    "On obtient : \n",
    "<p style=\"text-align: center;\">\n",
    "    $P(y | x_i , \\theta) = P(x_i | y , \\theta) P(y) $\n",
    "</p>\n",
    "La prior $P(y)$ est la probabilté qu'un exemple soit de la classe $y$ donc nous pouvons calculer cette quantité trivialement en comptant le nombre \n",
    "d'exemple de la classe puis en divisant par le nombre total d'exemples tel que.\n",
    "<p style=\"text-align: center;\">\n",
    "    $P(y_j) = \\frac{1}{N}\\sum_{i}^{N} classe(x_i,y_j)$\n",
    "</p>\n",
    "Ou $N$ représente le nombre d'exemple du dataset et $classe(x_i)$ est une fonction indicatrice si $x_i$ est bien de la classe $y_i$\n",
    "\n",
    "La vraissemblance des données par rapport aux classes et aux paramètres ce calcul de la manière suivante en faisant une hypothèse d'indépendance entre les dimensions sinon le calcul n'aura pas été faisable: \n",
    "<p style=\"text-align: center;\">\n",
    "    $ P(x_i | y_k , \\theta) = \\prod_{d}^{D} P(x_{i,d} | \\theta)$\n",
    "</p>\n",
    "<p style=\"text-align: center;\">\n",
    "    $ = \\prod_{d}^{D} p_{k,d}^{x_{i,d}}*(1 - p_{k,d})^{(1 - x_{i,d})}$\n",
    "</p>\n",
    "Nous voyons d'après cette équations que nous avons à trouver les valeurs de nb clusters paramètres ($p_{k,d} \\in \\theta$).\n",
    "20 : nombre de classe.\n",
    "\n",
    "En résumant les équations ci-dessus la fonction finale de prédiction s'écrit : \n",
    "<p style=\"text-align: center;\">\n",
    "    $f_{\\theta}(x_i) = argmax_y  \\prod_{d}^{D} p_{k,d}^{x_{i,d}}*(1 - p_{k,d})^{(1 - x_{i,d})} * \\frac{1}{N}\\sum_{i}^{N} classe(x_i,y_j) $\n",
    "</p>\n",
    "\n",
    "Nous avons à présent besoin de trouver les paramètres $p_{k,d}$ nécessaire à notre fonction de prédiction. Pour cela nous allons les estimés par la méthode du maximum de vraisemblance. Comme nous l'avons dit plutot la vraisemblance se définit par : $ L(x_i,\\theta,y_k) = P(x_i | y_k , \\theta) = \\prod_{d}^{D} P(x_{i,d} | \\theta)$ pour un exemple de la classe $k$. La vraisemblance d'un ensemble d'exemple pour la classe $k$ s'exprime par ($|y_k|$ représente le nombre d'exemple de la classe $k$) : \n",
    "<p style=\"text-align: center;\">\n",
    "$L(x,\\theta,y_k) = \\prod_{i}^{|y_k|} \\prod_{d}^{D} P(x_{i,d} | \\theta) $\n",
    "</p>\n",
    "<p style=\"text-align: center;\">\n",
    "$ = \\prod_{i}^{|y|} \\prod_{d}^{D} p_{k,d}^{x_{i,d}}*(1 - p_{k,d})^{(1 - x_{i,d})} $\n",
    "</p>\n",
    "\n",
    "Pour trouver les $p_{k,d}^{*}$, nous allons devoir dérivée cette expression afin de trouver l'optimum de cette fonction et d'isoler les $p_{k,d}$. Pour cela, nous allons d'abord calculer la log-vraissemblance pour faciliter les calculs ensuite (log(.) étant une fonction strictement croissante, cela ne fausse donc pas les calculs).\n",
    "<p style=\"text-align: center;\">\n",
    "$ log L(x,\\theta,y_k) = log \\prod_{i}^{|y|} \\prod_{d}^{D} p_{k,d}^{x_{i,d}}*(1 - p_{k,d})^{(1 - x_{i,d})} $\n",
    "</p>\n",
    "<p style=\"text-align: center;\">\n",
    "$ = \\sum_{i}^{|y|} \\sum_{d}^{D} log[ p_{k,d}^{x_{i,d}}*(1 - p_{k,d})^{(1 - x_{i,d})}] $ (log(a * b) = log(a) + log(b))\n",
    "</p>\n",
    "<p style=\"text-align: center;\">\n",
    "$ = \\sum_{i}^{|y|} \\sum_{d}^{D} x_{i,d}*log(p_{k,d}) + (1 - x_{i,d})*log(1 - p_{k,d}) $\n",
    "</p>\n",
    "\n",
    "Nous allons maintenant annuler la dérivé de cette expression par rapport aux $p_{k,d}$:\n",
    "\n",
    "<p style=\"text-align: center;\">\n",
    "$ (log L(x,\\theta,y_k))'(p_{k,d}) = \\sum_{i}^{|y|} \\frac{x_{i,d}}{p_{k,d}}-\\frac{1 - x_{i,d}}{1 - p_{k,d}}  $ (d étant en indice on peut enlever la somme et dérivé de somme = somme des dérivées)\n",
    "</p>\n",
    "\n",
    "Isolons les $p_{k,d}$ en posant l'équations = 0.\n",
    "<p style=\"text-align: center;\">\n",
    "$ (log L(x,\\theta,y_k))'(p_{k,d}) = 0 $\n",
    "</p>\n",
    "<p style=\"text-align: center;\">\n",
    "$ \\sum_{i}^{|y|} \\frac{x_{i,d}}{p_{k,d}}-\\frac{1 - x_{i,d}}{1 - p_{k,d}} = 0 $\n",
    "</p>\n",
    "<p style=\"text-align: center;\">\n",
    "$ \\sum_{i}^{|y|} \\frac{x_{i,d}(1 - p_{k,d}) - (1 - x_{i,d})*p_{k,d}}{p_{k,d}(1 - x_{i,d})} = 0 $\n",
    "</p>\n",
    "<p style=\"text-align: center;\">\n",
    "$ \\sum_{i}^{|y|} x_{i,d}(1 - p_{k,d}) - (1 - x_{i,d})*p_{k,d} = 0 $\n",
    "</p>\n",
    "<p style=\"text-align: center;\">\n",
    "$ \\sum_{i}^{|y|} x_{i,d} -x_{i,d}p_{k,d} -p_{k,d} + x_{i,d}p_{k,d}  = 0 $\n",
    "</p>\n",
    "<p style=\"text-align: center;\">\n",
    "$ \\sum_{i}^{|y|} x_{i,d} -p_{k,d} = 0 $\n",
    "</p>\n",
    "<p style=\"text-align: center;\">\n",
    "$  |y| * p_{k,d}  = \\sum_{i}^{|y|} x_{i,d} $\n",
    "</p>\n",
    "<p style=\"text-align: center;\">\n",
    "$   p_{k,d,*}  = \\frac{1}{|y|}\\sum_{i}^{|y|} x_{i,d} $\n",
    "</p>\n",
    "\n",
    "Après avoir calculer tous les $p_{k,d,*}$, la fonction de prédiction est :\n",
    "<p style=\"text-align: center;\">\n",
    "    $f_{\\theta}(x_i) = argmax_y  \\prod_{d}^{D} p_{k,d,*}^{x_{i,d}}*(1 - p_{k,d,*})^{(1 - x_{i,d})} * \\frac{1}{N}\\sum_{i}^{N} classe(x_i,y_j) $\n",
    "</p>\n"
   ]
  },
  {
   "cell_type": "code",
   "execution_count": 41,
   "id": "informed-cleveland",
   "metadata": {},
   "outputs": [],
   "source": [
    "def BayesienNaif_fit(X,y):\n",
    "    N = X.shape[0]\n",
    "    D = X.shape[1]\n",
    "    \n",
    "    pkd = np.zeros((K,D))\n",
    "    Pk = np.zeros((K,))\n",
    "    \n",
    "    for k in range(K):\n",
    "        mask = (y == k)\n",
    "        Pk[k] = np.sum(mask) / N\n",
    "        Xk = X[mask]\n",
    "        \n",
    "        for d in range(D):\n",
    "            count = 0\n",
    "            for n in range(Xk.shape[0]):\n",
    "                count += Xk[n , d]\n",
    "            \n",
    "            pkd[k , d] = count / Xk.shape[0]\n",
    "    \n",
    "    return pkd, Pk\n",
    "\n",
    "def BayesienNaif_predict(X, pkd, Pk):\n",
    "    epsilon = 1e-8\n",
    "    N = X.shape[0]\n",
    "    D = X.shape[1]\n",
    "    \n",
    "    y_pred = np.zeros(N)\n",
    "    \n",
    "    for n in range(N):\n",
    "        x = X[n]\n",
    "        score = np.zeros(K)\n",
    "        for k in range(K):\n",
    "            score[k] = (\n",
    "                np.log(Pk[k])\n",
    "                +\n",
    "                np.sum(\n",
    "                x * np.log(pkd[k] + epsilon)\n",
    "                    +\n",
    "                (1 - x) * np.log(1 - pkd[k] + epsilon)\n",
    "                )\n",
    "            )\n",
    "        k = np.argmax(score)\n",
    "        y_pred[n] = k\n",
    "    return y_pred"
   ]
  },
  {
   "cell_type": "markdown",
   "id": "sufficient-florist",
   "metadata": {},
   "source": [
    "## Fonctions de Cross-Validation sur le nombre de cluster"
   ]
  },
  {
   "cell_type": "code",
   "execution_count": 42,
   "id": "placed-container",
   "metadata": {},
   "outputs": [],
   "source": [
    "def appartenances_images_cibles(imagesValidation, nbPatches, representants) :\n",
    "    patchesImages = preprocessing(imagesValidation,nbPatches)\n",
    "    representantsCible = np.zeros((np.shape(imagesValidation)[0]*4,representants.shape[0]))\n",
    "    for n in range(patchesImages.shape[0]) :\n",
    "        distances = np.zeros(representants.shape[0])\n",
    "        for k in range(representants.shape[0]) :\n",
    "            distances[k] = dist(patchesImages[n], representants[k])\n",
    "        representantsCible[n][np.argmin(distances)] = 1\n",
    "    return matrice_resultat_kmoyennes(representantsCible, nbPatches)"
   ]
  },
  {
   "cell_type": "code",
   "execution_count": 44,
   "id": "constant-award",
   "metadata": {},
   "outputs": [
    {
     "name": "stdout",
     "output_type": "stream",
     "text": [
      "(9651, 50, 50, 3)\n",
      "(7720, 50, 50, 3)\n",
      "(7720,)\n",
      "(1931, 50, 50, 3)\n",
      "(1931,)\n",
      "(6176, 50, 50, 3)\n",
      "(6176,)\n",
      "(1544, 50, 50, 3)\n",
      "(1544,)\n"
     ]
    }
   ],
   "source": [
    "#propTest entre 0 et 1\n",
    "def separer_train_test(images, classes, propTest) :\n",
    "    N = np.shape(images)[0]\n",
    "    Ntest = int(propTest * N)\n",
    "    return images[:Ntest], classes[:Ntest], images[Ntest :], classes[Ntest :]\n",
    "\n",
    "#indexVal entre 0 et 4\n",
    "def decouper_folds(imagesSansTest,classesSansTest, indexVal) :\n",
    "    indexReel = int((np.shape(imagesSansTest)[0]/5)*indexVal)\n",
    "    largeurIntervalle = int(np.shape(imagesSansTest)[0]/5)\n",
    "    \n",
    "    images_train =  imagesSansTest[: indexReel] + imagesSansTest[(indexReel+largeurIntervalle) : ]\n",
    "    classes_train = classesSansTest[: indexReel] + classesSansTest[(indexReel+largeurIntervalle) : ]\n",
    "    images_validation = imagesSansTest[indexReel:(indexReel+largeurIntervalle)]\n",
    "    classes_validation = classesSansTest[indexReel:(indexReel+largeurIntervalle)]\n",
    "        \n",
    "    return images_train, classes_train, images_validation, classes_validation\n",
    "\n",
    "print(np.shape(images))\n",
    "\n",
    "images_sans_test, classes_sans_test, images_test, classes_test =  separer_train_test(images, classes, 0.80)\n",
    "\n",
    "print(np.shape(images_sans_test))\n",
    "print(np.shape(classes_sans_test))\n",
    "print(np.shape(images_test))\n",
    "print(np.shape(classes_test))\n",
    "\n",
    "images_train, classes_train, images_validation, classes_validation = decouper_folds(images_sans_test, classes_sans_test, 4)\n",
    "\n",
    "print(np.shape(images_train))\n",
    "print(np.shape(classes_train))\n",
    "print(np.shape(images_validation))\n",
    "print(np.shape(classes_validation))                         "
   ]
  },
  {
   "cell_type": "code",
   "execution_count": 46,
   "id": "aggressive-affiliation",
   "metadata": {},
   "outputs": [
    {
     "name": "stderr",
     "output_type": "stream",
     "text": [
      "  0%|                                                                                                                                                                                                                | 0/14 [00:00<?, ?it/s]"
     ]
    },
    {
     "name": "stdout",
     "output_type": "stream",
     "text": [
      "accuracy : 0.6972612879348631 nb cluster : 60 it : 0\n",
      "accuracy : 0.765358993338268 nb cluster : 60 it : 1\n",
      "accuracy : 0.6572908956328646 nb cluster : 60 it : 2\n",
      "accuracy : 0.7113249444855663 nb cluster : 60 it : 3\n"
     ]
    },
    {
     "name": "stderr",
     "output_type": "stream",
     "text": [
      "  7%|██████████████                                                                                                                                                                                      | 1/14 [21:23<4:38:11, 1283.98s/it]"
     ]
    },
    {
     "name": "stdout",
     "output_type": "stream",
     "text": [
      "accuracy : 0.7276091783863805 nb cluster : 60 it : 4\n",
      "fin itération\n",
      "accuracy : 0.7557364914877869 nb cluster : 65 it : 0\n",
      "accuracy : 0.7594374537379719 nb cluster : 65 it : 1\n",
      "accuracy : 0.7572168763878608 nb cluster : 65 it : 2\n",
      "accuracy : 0.770540340488527 nb cluster : 65 it : 3\n"
     ]
    },
    {
     "name": "stderr",
     "output_type": "stream",
     "text": [
      " 14%|████████████████████████████                                                                                                                                                                        | 2/14 [43:08<4:19:13, 1296.14s/it]"
     ]
    },
    {
     "name": "stdout",
     "output_type": "stream",
     "text": [
      "accuracy : 0.7505551443375278 nb cluster : 65 it : 4\n",
      "fin itération\n",
      "accuracy : 0.7468541820873427 nb cluster : 70 it : 0\n",
      "accuracy : 0.8312361213915618 nb cluster : 70 it : 1\n",
      "accuracy : 0.7017024426350851 nb cluster : 70 it : 2\n",
      "accuracy : 0.767579570688379 nb cluster : 70 it : 3\n"
     ]
    },
    {
     "name": "stderr",
     "output_type": "stream",
     "text": [
      " 21%|█████████████████████████████████████████▌                                                                                                                                                        | 3/14 [1:05:13<4:00:00, 1309.16s/it]"
     ]
    },
    {
     "name": "stdout",
     "output_type": "stream",
     "text": [
      "accuracy : 0.7934863064396743 nb cluster : 70 it : 4\n",
      "fin itération\n",
      "accuracy : 0.8201332346410066 nb cluster : 75 it : 0\n",
      "accuracy : 0.7527757216876387 nb cluster : 75 it : 1\n",
      "accuracy : 0.7660991857883049 nb cluster : 75 it : 2\n",
      "accuracy : 0.7616580310880829 nb cluster : 75 it : 3\n"
     ]
    },
    {
     "name": "stderr",
     "output_type": "stream",
     "text": [
      " 29%|███████████████████████████████████████████████████████▍                                                                                                                                          | 4/14 [1:27:44<3:40:56, 1325.70s/it]"
     ]
    },
    {
     "name": "stdout",
     "output_type": "stream",
     "text": [
      "accuracy : 0.8031088082901554 nb cluster : 75 it : 4\n",
      "fin itération\n",
      "accuracy : 0.7772020725388601 nb cluster : 80 it : 0\n",
      "accuracy : 0.7875647668393783 nb cluster : 80 it : 1\n",
      "accuracy : 0.7638786084381939 nb cluster : 80 it : 2\n",
      "accuracy : 0.7779422649888971 nb cluster : 80 it : 3\n"
     ]
    },
    {
     "name": "stderr",
     "output_type": "stream",
     "text": [
      " 36%|█████████████████████████████████████████████████████████████████████▎                                                                                                                            | 5/14 [1:50:52<3:22:12, 1348.09s/it]"
     ]
    },
    {
     "name": "stdout",
     "output_type": "stream",
     "text": [
      "accuracy : 0.7335307179866766 nb cluster : 80 it : 4\n",
      "fin itération\n",
      "accuracy : 0.7927461139896373 nb cluster : 85 it : 0\n",
      "accuracy : 0.7860843819393042 nb cluster : 85 it : 1\n",
      "accuracy : 0.8045891931902295 nb cluster : 85 it : 2\n",
      "accuracy : 0.7860843819393042 nb cluster : 85 it : 3\n"
     ]
    },
    {
     "name": "stderr",
     "output_type": "stream",
     "text": [
      " 43%|███████████████████████████████████████████████████████████████████████████████████▏                                                                                                              | 6/14 [2:14:25<3:02:41, 1370.20s/it]"
     ]
    },
    {
     "name": "stdout",
     "output_type": "stream",
     "text": [
      "accuracy : 0.8290155440414507 nb cluster : 85 it : 4\n",
      "fin itération\n",
      "accuracy : 0.8238341968911918 nb cluster : 90 it : 0\n",
      "accuracy : 0.7801628423390081 nb cluster : 90 it : 1\n",
      "accuracy : 0.8023686158401184 nb cluster : 90 it : 2\n",
      "accuracy : 0.8282753515914137 nb cluster : 90 it : 3\n"
     ]
    },
    {
     "name": "stderr",
     "output_type": "stream",
     "text": [
      " 50%|█████████████████████████████████████████████████████████████████████████████████████████████████                                                                                                 | 7/14 [2:38:29<2:42:40, 1394.36s/it]"
     ]
    },
    {
     "name": "stdout",
     "output_type": "stream",
     "text": [
      "accuracy : 0.7801628423390081 nb cluster : 90 it : 4\n",
      "fin itération\n",
      "accuracy : 0.7816432272390822 nb cluster : 95 it : 0\n",
      "accuracy : 0.8201332346410066 nb cluster : 95 it : 1\n",
      "accuracy : 0.8008882309400445 nb cluster : 95 it : 2\n",
      "accuracy : 0.7986676535899334 nb cluster : 95 it : 3\n"
     ]
    },
    {
     "name": "stderr",
     "output_type": "stream",
     "text": [
      " 57%|██████████████████████████████████████████████████████████████████████████████████████████████████████████████▊                                                                                   | 8/14 [3:02:58<2:21:49, 1418.22s/it]"
     ]
    },
    {
     "name": "stdout",
     "output_type": "stream",
     "text": [
      "accuracy : 0.8075499629903775 nb cluster : 95 it : 4\n",
      "fin itération\n",
      "accuracy : 0.7957068837897854 nb cluster : 100 it : 0\n",
      "accuracy : 0.8549222797927462 nb cluster : 100 it : 1\n",
      "accuracy : 0.8297557364914878 nb cluster : 100 it : 2\n",
      "accuracy : 0.8201332346410066 nb cluster : 100 it : 3\n"
     ]
    },
    {
     "name": "stderr",
     "output_type": "stream",
     "text": [
      " 64%|████████████████████████████████████████████████████████████████████████████████████████████████████████████████████████████▋                                                                     | 9/14 [3:27:53<2:00:10, 1442.14s/it]"
     ]
    },
    {
     "name": "stdout",
     "output_type": "stream",
     "text": [
      "accuracy : 0.8230940044411547 nb cluster : 100 it : 4\n",
      "fin itération\n",
      "accuracy : 0.7638786084381939 nb cluster : 105 it : 0\n",
      "accuracy : 0.8297557364914878 nb cluster : 105 it : 1\n",
      "accuracy : 0.8149518874907475 nb cluster : 105 it : 2\n",
      "accuracy : 0.7816432272390822 nb cluster : 105 it : 3\n"
     ]
    },
    {
     "name": "stderr",
     "output_type": "stream",
     "text": [
      " 71%|█████████████████████████████████████████████████████████████████████████████████████████████████████████████████████████████████████████▊                                                       | 10/14 [3:53:16<1:37:48, 1467.23s/it]"
     ]
    },
    {
     "name": "stdout",
     "output_type": "stream",
     "text": [
      "accuracy : 0.7964470762398224 nb cluster : 105 it : 4\n",
      "fin itération\n",
      "accuracy : 0.8008882309400445 nb cluster : 110 it : 0\n",
      "accuracy : 0.8423390081421169 nb cluster : 110 it : 1\n",
      "accuracy : 0.8556624722427831 nb cluster : 110 it : 2\n",
      "accuracy : 0.7897853441894893 nb cluster : 110 it : 3\n"
     ]
    },
    {
     "name": "stderr",
     "output_type": "stream",
     "text": [
      " 79%|███████████████████████████████████████████████████████████████████████████████████████████████████████████████████████████████████████████████████████▋                                         | 11/14 [4:19:13<1:14:43, 1494.53s/it]"
     ]
    },
    {
     "name": "stdout",
     "output_type": "stream",
     "text": [
      "accuracy : 0.8297557364914878 nb cluster : 110 it : 4\n",
      "fin itération\n",
      "accuracy : 0.8282753515914137 nb cluster : 115 it : 0\n",
      "accuracy : 0.847520355292376 nb cluster : 115 it : 1\n",
      "accuracy : 0.7809030347890451 nb cluster : 115 it : 2\n",
      "accuracy : 0.8401184307920059 nb cluster : 115 it : 3\n"
     ]
    },
    {
     "name": "stderr",
     "output_type": "stream",
     "text": [
      " 86%|███████████████████████████████████████████████████████████████████████████████████████████████████████████████████████████████████████████████████████████████████████▏                           | 12/14 [4:45:42<50:46, 1523.21s/it]"
     ]
    },
    {
     "name": "stdout",
     "output_type": "stream",
     "text": [
      "accuracy : 0.8023686158401184 nb cluster : 115 it : 4\n",
      "fin itération\n",
      "accuracy : 0.7994078460399704 nb cluster : 120 it : 0\n",
      "accuracy : 0.8060695780903034 nb cluster : 120 it : 1\n",
      "accuracy : 0.8267949666913398 nb cluster : 120 it : 2\n",
      "accuracy : 0.769059955588453 nb cluster : 120 it : 3\n"
     ]
    },
    {
     "name": "stderr",
     "output_type": "stream",
     "text": [
      " 93%|█████████████████████████████████████████████████████████████████████████████████████████████████████████████████████████████████████████████████████████████████████████████████████              | 13/14 [5:12:34<25:50, 1550.21s/it]"
     ]
    },
    {
     "name": "stdout",
     "output_type": "stream",
     "text": [
      "accuracy : 0.7801628423390081 nb cluster : 120 it : 4\n",
      "fin itération\n",
      "accuracy : 0.8134715025906736 nb cluster : 125 it : 0\n",
      "accuracy : 0.8423390081421169 nb cluster : 125 it : 1\n",
      "accuracy : 0.8771280532938565 nb cluster : 125 it : 2\n",
      "accuracy : 0.8179126572908957 nb cluster : 125 it : 3\n"
     ]
    },
    {
     "name": "stderr",
     "output_type": "stream",
     "text": [
      "100%|███████████████████████████████████████████████████████████████████████████████████████████████████████████████████████████████████████████████████████████████████████████████████████████████████| 14/14 [5:40:04<00:00, 1457.46s/it]"
     ]
    },
    {
     "name": "stdout",
     "output_type": "stream",
     "text": [
      "accuracy : 0.8223538119911177 nb cluster : 125 it : 4\n",
      "fin itération\n"
     ]
    },
    {
     "name": "stderr",
     "output_type": "stream",
     "text": [
      "\n"
     ]
    },
    {
     "data": {
      "text/plain": [
       "[<matplotlib.lines.Line2D at 0x1b764022eb0>]"
      ]
     },
     "execution_count": 46,
     "metadata": {},
     "output_type": "execute_result"
    },
    {
     "data": {
      "image/png": "[encoded data removed]",
      "text/plain": [
       "<Figure size 432x288 with 1 Axes>"
      ]
     },
     "metadata": {
      "needs_background": "light"
     },
     "output_type": "display_data"
    }
   ],
   "source": [
    "#cross-validation\n",
    "\n",
    "nbPatches = 4\n",
    "nbClustersToTest = [60, 65, 70, 75, 80, 85, 90, 95, 100, 105, 110, 115, 120, 125]\n",
    "erreurs = []\n",
    "\n",
    "images_sans_test, classes_sans_test, images_test, classes_test =  separer_train_test(images, classes, 0.70)\n",
    "\n",
    "for nb in tqdm(nbClustersToTest) :\n",
    "    accuracyCum = 0\n",
    "    for i in range(5) :\n",
    "        images_train, classes_train, images_validation, classes_validation = decouper_folds(images_sans_test, classes_sans_test, i)\n",
    "        patches_train = preprocessing(images_train, nbPatches) #pas optimal, en plus de prendre bcp de temps\n",
    "        Km = Kmoyennes(K=nb, taillePatch=25, IterationMax=10)\n",
    "        Km.fit(X=np.array(patches_train)) \n",
    "        representants = Km.representants\n",
    "        affectations = Km.affectations\n",
    "        X_train = matrice_resultat_kmoyennes(affectations, nbPatches)\n",
    "        pkd , Pk = BayesienNaif_fit(X_train, np.array(classes_train))\n",
    "        X_validation = appartenances_images_cibles(images_validation, nbPatches, representants)\n",
    "        ypred = BayesienNaif_predict(np.array(X_validation), pkd,Pk)\n",
    "        accuracy = np.sum(classes_validation == ypred) / np.shape(images_validation)[0]\n",
    "        print(f'accuracy : {accuracy} nb cluster : {nb} it : {i}')\n",
    "        accuracyCum += accuracy\n",
    "    accuracyCum /= 5\n",
    "    erreurs.append(1-accuracyCum)\n",
    "    print('fin itération')"
   ]
  },
  {
   "cell_type": "code",
   "execution_count": 59,
   "id": "6880cd7b-a0ea-42c0-8649-16c1ec517765",
   "metadata": {},
   "outputs": [
    {
     "data": {
      "image/png": "[encoded data removed]",
      "text/plain": [
       "<Figure size 432x288 with 1 Axes>"
      ]
     },
     "metadata": {
      "needs_background": "light"
     },
     "output_type": "display_data"
    }
   ],
   "source": [
    "plt.figure()\n",
    "plt.plot(nbClustersToTest, erreurs)\n",
    "plt.xlabel(\"nb clusters\")\n",
    "plt.ylabel(\"error\")\n",
    "plt.title(\"erreur en fonction du nombre de clusters\")\n",
    "plt.show()"
   ]
  },
  {
   "cell_type": "markdown",
   "id": "centered-ordinance",
   "metadata": {},
   "source": [
    "## Test et résultat du modèle"
   ]
  },
  {
   "cell_type": "code",
   "execution_count": 49,
   "id": "respiratory-terry",
   "metadata": {},
   "outputs": [],
   "source": [
    "# Test du modele\n",
    "images_sans_test, classes_sans_test, images_test, classes_test =  separer_train_test(images, classes, 0.70)\n",
    "\n",
    "nbPatches = 4\n",
    "patches_train = preprocessing(images_sans_test, nbPatches)\n",
    "Km = Kmoyennes(K=120, taillePatch=25, IterationMax=20)\n",
    "Km.fit(X=np.array(patches_train)) \n",
    "representants = Km.representants\n",
    "affectations = Km.affectations\n",
    "\n",
    "X_train = matrice_resultat_kmoyennes(affectations, nbPatches)\n",
    "X_test = appartenances_images_cibles(images_test, nbPatches, representants)"
   ]
  },
  {
   "cell_type": "code",
   "execution_count": 50,
   "id": "3b85b967-94e7-4b2b-9c66-fc04b9181acc",
   "metadata": {},
   "outputs": [],
   "source": [
    "pkd , Pk = BayesienNaif_fit(X_train, np.array(classes_sans_test))"
   ]
  },
  {
   "cell_type": "code",
   "execution_count": 55,
   "id": "32fee02f-ddf8-432f-b816-8bf1c7fc767e",
   "metadata": {},
   "outputs": [],
   "source": [
    "ypred_test = BayesienNaif_predict(np.array(X_test), pkd,Pk)\n",
    "ypred_train = BayesienNaif_predict(np.array(X_train), pkd,Pk)\n",
    "\n",
    "accuracy_test = np.sum(classes_test == ypred_test) / np.shape(images_test)[0]\n",
    "accuracy_train = np.sum(classes_sans_test == ypred_train) / np.shape(images_sans_test)[0]"
   ]
  },
  {
   "cell_type": "code",
   "execution_count": 56,
   "id": "8cb4df6f-de91-4240-9abe-d541fa679211",
   "metadata": {},
   "outputs": [
    {
     "name": "stdout",
     "output_type": "stream",
     "text": [
      "accuracy en train : 84.57438934122872%\n",
      "accuracy en test : 84.80662983425414%\n"
     ]
    }
   ],
   "source": [
    "\n",
    "print(f\"accuracy en train : {accuracy_train*100}%\")\n",
    "print(f\"accuracy en test : {accuracy_test*100}%\")\n"
   ]
  },
  {
   "cell_type": "code",
   "execution_count": 57,
   "id": "5dbd0e21-e976-4b6f-bc91-7e10bf7163a8",
   "metadata": {},
   "outputs": [
    {
     "name": "stdout",
     "output_type": "stream",
     "text": [
      "valeur de l'image : 11 valeur predite : 11.0\n"
     ]
    }
   ],
   "source": [
    "index_test = 1000\n",
    "print(f'valeur de l\\'image : {classes_test[index_test]} valeur predite : {ypred[index_test]}')"
   ]
  },
  {
   "cell_type": "markdown",
   "id": "28572dfd-cb6f-4874-bc9e-4023c4171876",
   "metadata": {},
   "source": [
    "## Conclusion"
   ]
  },
  {
   "cell_type": "markdown",
   "id": "9430601a-b5f8-4226-9d7f-7b9b89f15907",
   "metadata": {},
   "source": [
    "Ce choix de pre processing à été payant car c'est l'option qui nous retourne de meilleurs performance en entrainement et en test. Le choix de l'hyper paramètre du nombre de cluster à été choisi par cross validation."
   ]
  }
 ],
 "metadata": {
  "kernelspec": {
   "display_name": "Python 3 (ipykernel)",
   "language": "python",
   "name": "python3"
  },
  "language_info": {
   "codemirror_mode": {
    "name": "ipython",
    "version": 3
   },
   "file_extension": ".py",
   "mimetype": "text/x-python",
   "name": "python",
   "nbconvert_exporter": "python",
   "pygments_lexer": "ipython3",
   "version": "3.9.12"
  }
 },
 "nbformat": 4,
 "nbformat_minor": 5
}
